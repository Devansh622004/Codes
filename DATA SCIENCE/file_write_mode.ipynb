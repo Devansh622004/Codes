{
 "cells": [
  {
   "cell_type": "code",
   "execution_count": 3,
   "id": "d313355e-fb9f-412c-84fb-a3060b8038b1",
   "metadata": {},
   "outputs": [],
   "source": [
    "f = open(\"ram.txt\", \"r\")"
   ]
  },
  {
   "cell_type": "code",
   "execution_count": 5,
   "id": "3dc2d182-61c5-472e-a056-cfd77c0cc822",
   "metadata": {},
   "outputs": [],
   "source": [
    "s = \"RAM RAM BHAI SAAREYAA NE.\""
   ]
  },
  {
   "cell_type": "code",
   "execution_count": 7,
   "id": "0fba3bf1-b2f3-41f9-8fd8-0ffb402f9cc3",
   "metadata": {},
   "outputs": [],
   "source": [
    "f.close()"
   ]
  },
  {
   "cell_type": "code",
   "execution_count": 9,
   "id": "e65273d9-7c54-45a3-b8cd-5099e503ebe2",
   "metadata": {},
   "outputs": [],
   "source": [
    "f = open(\"ram.txt\", \"w\")"
   ]
  },
  {
   "cell_type": "code",
   "execution_count": 11,
   "id": "3e13a1cf-b0f0-475e-a433-6ed4fb05e01a",
   "metadata": {},
   "outputs": [
    {
     "data": {
      "text/plain": [
       "25"
      ]
     },
     "execution_count": 11,
     "metadata": {},
     "output_type": "execute_result"
    }
   ],
   "source": [
    "f.write(s)"
   ]
  },
  {
   "cell_type": "code",
   "execution_count": 14,
   "id": "a365f1b9-f55b-4ad4-84eb-d26517828ff0",
   "metadata": {},
   "outputs": [],
   "source": [
    "f.close()    # IT'S MANDATORY TO CLOSE THE FILE TO ADD TEXT TO THE FILE."
   ]
  },
  {
   "cell_type": "code",
   "execution_count": null,
   "id": "e8b22bcb-5fb0-425a-b83e-e8c5c6589895",
   "metadata": {},
   "outputs": [],
   "source": []
  }
 ],
 "metadata": {
  "kernelspec": {
   "display_name": "Python [conda env:base] *",
   "language": "python",
   "name": "conda-base-py"
  },
  "language_info": {
   "codemirror_mode": {
    "name": "ipython",
    "version": 3
   },
   "file_extension": ".py",
   "mimetype": "text/x-python",
   "name": "python",
   "nbconvert_exporter": "python",
   "pygments_lexer": "ipython3",
   "version": "3.12.7"
  }
 },
 "nbformat": 4,
 "nbformat_minor": 5
}
