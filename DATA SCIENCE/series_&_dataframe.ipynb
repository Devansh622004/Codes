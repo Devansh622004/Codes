{
 "cells": [
  {
   "cell_type": "code",
   "execution_count": 1,
   "id": "4f8a9cc5-9922-4cc2-965a-ffbf85eebfc7",
   "metadata": {},
   "outputs": [],
   "source": [
    "import pandas as pd"
   ]
  },
  {
   "cell_type": "code",
   "execution_count": 5,
   "id": "e88f34c8-6fa5-4d6d-b554-00c2ce41cced",
   "metadata": {},
   "outputs": [],
   "source": [
    "# Pandas is built on two main data structures:\n",
    "\n",
    "# Series → One-dimensional (like a single column in Excel)\n",
    "# DataFrame → Two-dimensional (like a full spreadsheet or SQL table)\n",
    "\n",
    "\n",
    "# Series — 1D Labeled Array\n",
    "# A Series is like a list with labels (index).\n",
    "\n",
    "s1 = pd.Series([10, 20, 30, 40])"
   ]
  },
  {
   "cell_type": "code",
   "execution_count": 7,
   "id": "e2a10308-ea78-4eb5-be8c-f71ffe617907",
   "metadata": {},
   "outputs": [
    {
     "data": {
      "text/plain": [
       "0    10\n",
       "1    20\n",
       "2    30\n",
       "3    40\n",
       "dtype: int64"
      ]
     },
     "execution_count": 7,
     "metadata": {},
     "output_type": "execute_result"
    }
   ],
   "source": [
    "s1"
   ]
  },
  {
   "cell_type": "code",
   "execution_count": 9,
   "id": "de18a749-3b50-450c-be6c-caa7a361e5e7",
   "metadata": {},
   "outputs": [
    {
     "data": {
      "text/plain": [
       "pandas.core.series.Series"
      ]
     },
     "execution_count": 9,
     "metadata": {},
     "output_type": "execute_result"
    }
   ],
   "source": [
    "type(s1)"
   ]
  },
  {
   "cell_type": "code",
   "execution_count": 17,
   "id": "90bef6dd-d9a7-4052-83ff-2b09a39b70cf",
   "metadata": {},
   "outputs": [
    {
     "data": {
      "text/plain": [
       "RUDRA     60\n",
       "VASU      70\n",
       "RAGHAV    85\n",
       "SHAGUN    90\n",
       "dtype: int64"
      ]
     },
     "execution_count": 17,
     "metadata": {},
     "output_type": "execute_result"
    }
   ],
   "source": [
    "# WE CAN ALSO CHANGE THE INDEXES(i.e. 0, 1, 2, ..., n).\n",
    "\n",
    "s2 = pd.Series([60, 70, 85, 90], index=[\"RUDRA\", \"VASU\", \"RAGHAV\", \"SHAGUN\"])\n",
    "s2"
   ]
  },
  {
   "cell_type": "code",
   "execution_count": 19,
   "id": "82f96928-5274-45e2-9ceb-8a2aa6e070ab",
   "metadata": {},
   "outputs": [
    {
     "name": "stdout",
     "output_type": "stream",
     "text": [
      "      name  age       city\n",
      "0    Alice   25      Delhi\n",
      "1      Bob   30     Mumbai\n",
      "2  Charlie   35  Bangalore\n"
     ]
    }
   ],
   "source": [
    "# DataFrame — 2D Labeled Table\n",
    "# A DataFrame is like a dictionary of Series — multiple columns with labels.\n",
    "\n",
    "data = {\n",
    "    \"name\": [\"Alice\", \"Bob\", \"Charlie\"],\n",
    "    \"age\": [25, 30, 35],\n",
    "    \"city\": [\"Delhi\", \"Mumbai\", \"Bangalore\"]\n",
    "}\n",
    "\n",
    "df = pd.DataFrame(data)\n",
    "print(df)"
   ]
  },
  {
   "cell_type": "code",
   "execution_count": 21,
   "id": "50b93ae1-7c8a-4840-b3f0-511dbc3b2781",
   "metadata": {},
   "outputs": [
    {
     "data": {
      "text/plain": [
       "RangeIndex(start=0, stop=3, step=1)"
      ]
     },
     "execution_count": 21,
     "metadata": {},
     "output_type": "execute_result"
    }
   ],
   "source": [
    "df.index"
   ]
  },
  {
   "cell_type": "code",
   "execution_count": 23,
   "id": "ef8237ba-49c3-422f-8c74-0c88be93e889",
   "metadata": {},
   "outputs": [
    {
     "data": {
      "text/plain": [
       "Index(['name', 'age', 'city'], dtype='object')"
      ]
     },
     "execution_count": 23,
     "metadata": {},
     "output_type": "execute_result"
    }
   ],
   "source": [
    "df.columns"
   ]
  },
  {
   "cell_type": "code",
   "execution_count": null,
   "id": "21f18e05-6ec9-47dc-a42f-98c0ae8bfcda",
   "metadata": {},
   "outputs": [],
   "source": []
  }
 ],
 "metadata": {
  "kernelspec": {
   "display_name": "Python [conda env:base] *",
   "language": "python",
   "name": "conda-base-py"
  },
  "language_info": {
   "codemirror_mode": {
    "name": "ipython",
    "version": 3
   },
   "file_extension": ".py",
   "mimetype": "text/x-python",
   "name": "python",
   "nbconvert_exporter": "python",
   "pygments_lexer": "ipython3",
   "version": "3.12.7"
  }
 },
 "nbformat": 4,
 "nbformat_minor": 5
}
