{
 "cells": [
  {
   "cell_type": "code",
   "execution_count": 19,
   "id": "cb961877-4a8c-4e2c-a405-552d21fe0ddd",
   "metadata": {},
   "outputs": [],
   "source": [
    "import pandas as pd"
   ]
  },
  {
   "cell_type": "code",
   "execution_count": 21,
   "id": "6e0a2bbe-9714-406e-a422-e82ecae0ede8",
   "metadata": {},
   "outputs": [],
   "source": [
    "df = pd.read_csv(\"Artists.csv\")"
   ]
  },
  {
   "cell_type": "code",
   "execution_count": 23,
   "id": "15da239d-2181-4905-b1ce-def0df19738a",
   "metadata": {},
   "outputs": [
    {
     "data": {
      "text/html": [
       "<div>\n",
       "<style scoped>\n",
       "    .dataframe tbody tr th:only-of-type {\n",
       "        vertical-align: middle;\n",
       "    }\n",
       "\n",
       "    .dataframe tbody tr th {\n",
       "        vertical-align: top;\n",
       "    }\n",
       "\n",
       "    .dataframe thead th {\n",
       "        text-align: right;\n",
       "    }\n",
       "</style>\n",
       "<table border=\"1\" class=\"dataframe\">\n",
       "  <thead>\n",
       "    <tr style=\"text-align: right;\">\n",
       "      <th></th>\n",
       "      <th>Name</th>\n",
       "      <th>ID</th>\n",
       "      <th>Gender</th>\n",
       "      <th>Age</th>\n",
       "      <th>Country</th>\n",
       "      <th>Genres</th>\n",
       "      <th>Popularity</th>\n",
       "      <th>Followers</th>\n",
       "    </tr>\n",
       "  </thead>\n",
       "  <tbody>\n",
       "    <tr>\n",
       "      <th>0</th>\n",
       "      <td>Drake</td>\n",
       "      <td>3TVXtAsR1Inumwj472S9r4</td>\n",
       "      <td>male</td>\n",
       "      <td>33</td>\n",
       "      <td>CA</td>\n",
       "      <td>['canadian hip hop', 'canadian pop', 'hip hop'...</td>\n",
       "      <td>95</td>\n",
       "      <td>83298497</td>\n",
       "    </tr>\n",
       "    <tr>\n",
       "      <th>1</th>\n",
       "      <td>Post Malone</td>\n",
       "      <td>246dkjvS1zLTtiykXe5h60</td>\n",
       "      <td>male</td>\n",
       "      <td>25</td>\n",
       "      <td>US</td>\n",
       "      <td>['dfw rap', 'melodic rap', 'pop', 'rap']</td>\n",
       "      <td>86</td>\n",
       "      <td>43130108</td>\n",
       "    </tr>\n",
       "    <tr>\n",
       "      <th>2</th>\n",
       "      <td>Ed Sheeran</td>\n",
       "      <td>6eUKZXaKkcviH0Ku9w2n3V</td>\n",
       "      <td>male</td>\n",
       "      <td>29</td>\n",
       "      <td>GB</td>\n",
       "      <td>['pop', 'singer-songwriter pop', 'uk pop']</td>\n",
       "      <td>87</td>\n",
       "      <td>115998928</td>\n",
       "    </tr>\n",
       "    <tr>\n",
       "      <th>3</th>\n",
       "      <td>J Balvin</td>\n",
       "      <td>1vyhD5VmyZ7KMfW5gqLgo5</td>\n",
       "      <td>male</td>\n",
       "      <td>35</td>\n",
       "      <td>CO</td>\n",
       "      <td>['reggaeton', 'reggaeton colombiano', 'trap la...</td>\n",
       "      <td>83</td>\n",
       "      <td>38028010</td>\n",
       "    </tr>\n",
       "    <tr>\n",
       "      <th>4</th>\n",
       "      <td>Bad Bunny</td>\n",
       "      <td>4q3ewBCX7sLwd24euuV69X</td>\n",
       "      <td>male</td>\n",
       "      <td>26</td>\n",
       "      <td>PR</td>\n",
       "      <td>['reggaeton', 'trap latino', 'urbano latino']</td>\n",
       "      <td>95</td>\n",
       "      <td>77931484</td>\n",
       "    </tr>\n",
       "    <tr>\n",
       "      <th>5</th>\n",
       "      <td>Justin Bieber</td>\n",
       "      <td>1uNFoZAHBGtllmzznpCI3s</td>\n",
       "      <td>male</td>\n",
       "      <td>26</td>\n",
       "      <td>CA</td>\n",
       "      <td>['canadian pop', 'pop']</td>\n",
       "      <td>88</td>\n",
       "      <td>75112165</td>\n",
       "    </tr>\n",
       "    <tr>\n",
       "      <th>6</th>\n",
       "      <td>Ozuna</td>\n",
       "      <td>1i8SpTcr7yvPOmcqrbnVXY</td>\n",
       "      <td>male</td>\n",
       "      <td>28</td>\n",
       "      <td>PR</td>\n",
       "      <td>['puerto rican pop', 'reggaeton', 'trap latino...</td>\n",
       "      <td>84</td>\n",
       "      <td>38192380</td>\n",
       "    </tr>\n",
       "    <tr>\n",
       "      <th>7</th>\n",
       "      <td>Ariana Grande</td>\n",
       "      <td>66CXWjxzNUsdJxJ2JdwvnR</td>\n",
       "      <td>female</td>\n",
       "      <td>27</td>\n",
       "      <td>US</td>\n",
       "      <td>['pop']</td>\n",
       "      <td>88</td>\n",
       "      <td>95710972</td>\n",
       "    </tr>\n",
       "    <tr>\n",
       "      <th>8</th>\n",
       "      <td>Khalid</td>\n",
       "      <td>6LuN9FCkKOj5PcnpouEgny</td>\n",
       "      <td>male</td>\n",
       "      <td>22</td>\n",
       "      <td>US</td>\n",
       "      <td>['pop', 'pop r&amp;b']</td>\n",
       "      <td>81</td>\n",
       "      <td>16282583</td>\n",
       "    </tr>\n",
       "  </tbody>\n",
       "</table>\n",
       "</div>"
      ],
      "text/plain": [
       "            Name                      ID  Gender  Age Country  \\\n",
       "0          Drake  3TVXtAsR1Inumwj472S9r4    male   33      CA   \n",
       "1    Post Malone  246dkjvS1zLTtiykXe5h60    male   25      US   \n",
       "2     Ed Sheeran  6eUKZXaKkcviH0Ku9w2n3V    male   29      GB   \n",
       "3       J Balvin  1vyhD5VmyZ7KMfW5gqLgo5    male   35      CO   \n",
       "4      Bad Bunny  4q3ewBCX7sLwd24euuV69X    male   26      PR   \n",
       "5  Justin Bieber  1uNFoZAHBGtllmzznpCI3s    male   26      CA   \n",
       "6          Ozuna  1i8SpTcr7yvPOmcqrbnVXY    male   28      PR   \n",
       "7  Ariana Grande  66CXWjxzNUsdJxJ2JdwvnR  female   27      US   \n",
       "8         Khalid  6LuN9FCkKOj5PcnpouEgny    male   22      US   \n",
       "\n",
       "                                              Genres  Popularity  Followers  \n",
       "0  ['canadian hip hop', 'canadian pop', 'hip hop'...          95   83298497  \n",
       "1           ['dfw rap', 'melodic rap', 'pop', 'rap']          86   43130108  \n",
       "2         ['pop', 'singer-songwriter pop', 'uk pop']          87  115998928  \n",
       "3  ['reggaeton', 'reggaeton colombiano', 'trap la...          83   38028010  \n",
       "4      ['reggaeton', 'trap latino', 'urbano latino']          95   77931484  \n",
       "5                            ['canadian pop', 'pop']          88   75112165  \n",
       "6  ['puerto rican pop', 'reggaeton', 'trap latino...          84   38192380  \n",
       "7                                            ['pop']          88   95710972  \n",
       "8                                 ['pop', 'pop r&b']          81   16282583  "
      ]
     },
     "execution_count": 23,
     "metadata": {},
     "output_type": "execute_result"
    }
   ],
   "source": [
    "df"
   ]
  },
  {
   "cell_type": "code",
   "execution_count": 25,
   "id": "e41903fd-8b06-4a71-ab88-1fef0fe905f9",
   "metadata": {},
   "outputs": [
    {
     "data": {
      "text/plain": [
       "<bound method NDFrame.head of             Name                      ID  Gender  Age Country  \\\n",
       "0          Drake  3TVXtAsR1Inumwj472S9r4    male   33      CA   \n",
       "1    Post Malone  246dkjvS1zLTtiykXe5h60    male   25      US   \n",
       "2     Ed Sheeran  6eUKZXaKkcviH0Ku9w2n3V    male   29      GB   \n",
       "3       J Balvin  1vyhD5VmyZ7KMfW5gqLgo5    male   35      CO   \n",
       "4      Bad Bunny  4q3ewBCX7sLwd24euuV69X    male   26      PR   \n",
       "5  Justin Bieber  1uNFoZAHBGtllmzznpCI3s    male   26      CA   \n",
       "6          Ozuna  1i8SpTcr7yvPOmcqrbnVXY    male   28      PR   \n",
       "7  Ariana Grande  66CXWjxzNUsdJxJ2JdwvnR  female   27      US   \n",
       "8         Khalid  6LuN9FCkKOj5PcnpouEgny    male   22      US   \n",
       "\n",
       "                                              Genres  Popularity  Followers  \n",
       "0  ['canadian hip hop', 'canadian pop', 'hip hop'...          95   83298497  \n",
       "1           ['dfw rap', 'melodic rap', 'pop', 'rap']          86   43130108  \n",
       "2         ['pop', 'singer-songwriter pop', 'uk pop']          87  115998928  \n",
       "3  ['reggaeton', 'reggaeton colombiano', 'trap la...          83   38028010  \n",
       "4      ['reggaeton', 'trap latino', 'urbano latino']          95   77931484  \n",
       "5                            ['canadian pop', 'pop']          88   75112165  \n",
       "6  ['puerto rican pop', 'reggaeton', 'trap latino...          84   38192380  \n",
       "7                                            ['pop']          88   95710972  \n",
       "8                                 ['pop', 'pop r&b']          81   16282583  >"
      ]
     },
     "execution_count": 25,
     "metadata": {},
     "output_type": "execute_result"
    }
   ],
   "source": [
    "df.head"
   ]
  },
  {
   "cell_type": "code",
   "execution_count": 27,
   "id": "2995673d-39af-48a9-896c-bdf9a793840d",
   "metadata": {},
   "outputs": [
    {
     "data": {
      "text/plain": [
       "0            Drake\n",
       "1      Post Malone\n",
       "2       Ed Sheeran\n",
       "3         J Balvin\n",
       "4        Bad Bunny\n",
       "5    Justin Bieber\n",
       "6            Ozuna\n",
       "7    Ariana Grande\n",
       "8           Khalid\n",
       "Name: Name, dtype: object"
      ]
     },
     "execution_count": 27,
     "metadata": {},
     "output_type": "execute_result"
    }
   ],
   "source": [
    "df['Name']"
   ]
  },
  {
   "cell_type": "code",
   "execution_count": 29,
   "id": "0817c9e4-8567-4a8b-af38-484a1e477b72",
   "metadata": {},
   "outputs": [
    {
     "data": {
      "text/plain": [
       "'Ed Sheeran'"
      ]
     },
     "execution_count": 29,
     "metadata": {},
     "output_type": "execute_result"
    }
   ],
   "source": [
    "df['Name'][2]"
   ]
  },
  {
   "cell_type": "code",
   "execution_count": 31,
   "id": "b285ae28-38df-4d42-9ebc-71a0c4fc6748",
   "metadata": {},
   "outputs": [
    {
     "data": {
      "text/plain": [
       "pandas.core.frame.DataFrame"
      ]
     },
     "execution_count": 31,
     "metadata": {},
     "output_type": "execute_result"
    }
   ],
   "source": [
    "type(df)"
   ]
  },
  {
   "cell_type": "code",
   "execution_count": 33,
   "id": "2de79fe9-85a7-4af9-9dc0-21a60c4997af",
   "metadata": {},
   "outputs": [
    {
     "data": {
      "text/plain": [
       "Name                    Justin Bieber\n",
       "ID             1uNFoZAHBGtllmzznpCI3s\n",
       "Gender                           male\n",
       "Age                                26\n",
       "Country                            CA\n",
       "Genres        ['canadian pop', 'pop']\n",
       "Popularity                         88\n",
       "Followers                    75112165\n",
       "Name: 5, dtype: object"
      ]
     },
     "execution_count": 33,
     "metadata": {},
     "output_type": "execute_result"
    }
   ],
   "source": [
    "df.loc[5]    # For Accessing A particular Row By Label."
   ]
  },
  {
   "cell_type": "code",
   "execution_count": 35,
   "id": "e00c33d3-6ce4-498f-94f1-adfb04b16d1b",
   "metadata": {},
   "outputs": [
    {
     "data": {
      "text/plain": [
       "Name                    Justin Bieber\n",
       "ID             1uNFoZAHBGtllmzznpCI3s\n",
       "Gender                           male\n",
       "Age                                26\n",
       "Country                            CA\n",
       "Genres        ['canadian pop', 'pop']\n",
       "Popularity                         88\n",
       "Followers                    75112165\n",
       "Name: 5, dtype: object"
      ]
     },
     "execution_count": 35,
     "metadata": {},
     "output_type": "execute_result"
    }
   ],
   "source": [
    "df.iloc[5]   # For Accessing A particular Row By Index/Position."
   ]
  },
  {
   "cell_type": "code",
   "execution_count": 37,
   "id": "d667a71b-0aee-4c7c-bed1-81fbb9e86a2d",
   "metadata": {},
   "outputs": [
    {
     "data": {
      "text/plain": [
       "'Ozuna'"
      ]
     },
     "execution_count": 37,
     "metadata": {},
     "output_type": "execute_result"
    }
   ],
   "source": [
    "df.loc[6, \"Name\"]    # loc[x-axis, y-axis(name)]"
   ]
  },
  {
   "cell_type": "code",
   "execution_count": 43,
   "id": "71542b7a-780a-4e00-b974-29eddf7fe89b",
   "metadata": {},
   "outputs": [
    {
     "data": {
      "text/plain": [
       "'Ozuna'"
      ]
     },
     "execution_count": 43,
     "metadata": {},
     "output_type": "execute_result"
    }
   ],
   "source": [
    "df.iloc[6, 0]        # iloc[x-axis, y-axis]"
   ]
  },
  {
   "cell_type": "code",
   "execution_count": 47,
   "id": "88ef6d70-ffad-483a-8537-86bae3494734",
   "metadata": {},
   "outputs": [
    {
     "data": {
      "text/html": [
       "<div>\n",
       "<style scoped>\n",
       "    .dataframe tbody tr th:only-of-type {\n",
       "        vertical-align: middle;\n",
       "    }\n",
       "\n",
       "    .dataframe tbody tr th {\n",
       "        vertical-align: top;\n",
       "    }\n",
       "\n",
       "    .dataframe thead th {\n",
       "        text-align: right;\n",
       "    }\n",
       "</style>\n",
       "<table border=\"1\" class=\"dataframe\">\n",
       "  <thead>\n",
       "    <tr style=\"text-align: right;\">\n",
       "      <th></th>\n",
       "      <th>Name</th>\n",
       "      <th>Country</th>\n",
       "    </tr>\n",
       "  </thead>\n",
       "  <tbody>\n",
       "    <tr>\n",
       "      <th>0</th>\n",
       "      <td>Drake</td>\n",
       "      <td>CA</td>\n",
       "    </tr>\n",
       "    <tr>\n",
       "      <th>1</th>\n",
       "      <td>Post Malone</td>\n",
       "      <td>US</td>\n",
       "    </tr>\n",
       "    <tr>\n",
       "      <th>2</th>\n",
       "      <td>Ed Sheeran</td>\n",
       "      <td>GB</td>\n",
       "    </tr>\n",
       "    <tr>\n",
       "      <th>3</th>\n",
       "      <td>J Balvin</td>\n",
       "      <td>CO</td>\n",
       "    </tr>\n",
       "    <tr>\n",
       "      <th>4</th>\n",
       "      <td>Bad Bunny</td>\n",
       "      <td>PR</td>\n",
       "    </tr>\n",
       "  </tbody>\n",
       "</table>\n",
       "</div>"
      ],
      "text/plain": [
       "          Name Country\n",
       "0        Drake      CA\n",
       "1  Post Malone      US\n",
       "2   Ed Sheeran      GB\n",
       "3     J Balvin      CO\n",
       "4    Bad Bunny      PR"
      ]
     },
     "execution_count": 47,
     "metadata": {},
     "output_type": "execute_result"
    }
   ],
   "source": [
    "df.loc[0:4, ['Name', 'Country']]    # Inclusive"
   ]
  },
  {
   "cell_type": "code",
   "execution_count": 49,
   "id": "d2e5c22a-dc49-4348-8bf5-d7b5b786c3a3",
   "metadata": {},
   "outputs": [
    {
     "data": {
      "text/html": [
       "<div>\n",
       "<style scoped>\n",
       "    .dataframe tbody tr th:only-of-type {\n",
       "        vertical-align: middle;\n",
       "    }\n",
       "\n",
       "    .dataframe tbody tr th {\n",
       "        vertical-align: top;\n",
       "    }\n",
       "\n",
       "    .dataframe thead th {\n",
       "        text-align: right;\n",
       "    }\n",
       "</style>\n",
       "<table border=\"1\" class=\"dataframe\">\n",
       "  <thead>\n",
       "    <tr style=\"text-align: right;\">\n",
       "      <th></th>\n",
       "      <th>Name</th>\n",
       "      <th>ID</th>\n",
       "      <th>Gender</th>\n",
       "      <th>Age</th>\n",
       "    </tr>\n",
       "  </thead>\n",
       "  <tbody>\n",
       "    <tr>\n",
       "      <th>0</th>\n",
       "      <td>Drake</td>\n",
       "      <td>3TVXtAsR1Inumwj472S9r4</td>\n",
       "      <td>male</td>\n",
       "      <td>33</td>\n",
       "    </tr>\n",
       "    <tr>\n",
       "      <th>1</th>\n",
       "      <td>Post Malone</td>\n",
       "      <td>246dkjvS1zLTtiykXe5h60</td>\n",
       "      <td>male</td>\n",
       "      <td>25</td>\n",
       "    </tr>\n",
       "    <tr>\n",
       "      <th>2</th>\n",
       "      <td>Ed Sheeran</td>\n",
       "      <td>6eUKZXaKkcviH0Ku9w2n3V</td>\n",
       "      <td>male</td>\n",
       "      <td>29</td>\n",
       "    </tr>\n",
       "    <tr>\n",
       "      <th>3</th>\n",
       "      <td>J Balvin</td>\n",
       "      <td>1vyhD5VmyZ7KMfW5gqLgo5</td>\n",
       "      <td>male</td>\n",
       "      <td>35</td>\n",
       "    </tr>\n",
       "  </tbody>\n",
       "</table>\n",
       "</div>"
      ],
      "text/plain": [
       "          Name                      ID Gender  Age\n",
       "0        Drake  3TVXtAsR1Inumwj472S9r4   male   33\n",
       "1  Post Malone  246dkjvS1zLTtiykXe5h60   male   25\n",
       "2   Ed Sheeran  6eUKZXaKkcviH0Ku9w2n3V   male   29\n",
       "3     J Balvin  1vyhD5VmyZ7KMfW5gqLgo5   male   35"
      ]
     },
     "execution_count": 49,
     "metadata": {},
     "output_type": "execute_result"
    }
   ],
   "source": [
    "df.iloc[0:4, 0:4]    # Exclusive"
   ]
  },
  {
   "cell_type": "code",
   "execution_count": 51,
   "id": "c1b8c1e5-8d26-4abc-a031-459c4f736ecf",
   "metadata": {},
   "outputs": [
    {
     "data": {
      "text/plain": [
       "'Drake'"
      ]
     },
     "execution_count": 51,
     "metadata": {},
     "output_type": "execute_result"
    }
   ],
   "source": [
    "df.at[0, 'Name']    # For accessing a particular cell."
   ]
  },
  {
   "cell_type": "code",
   "execution_count": 53,
   "id": "6fa38178-45fd-41f6-97e3-ac7ca9f2a2c1",
   "metadata": {},
   "outputs": [
    {
     "data": {
      "text/plain": [
       "'Drake'"
      ]
     },
     "execution_count": 53,
     "metadata": {},
     "output_type": "execute_result"
    }
   ],
   "source": [
    "df.iat[0, 0]    # Slower than \"at\"."
   ]
  },
  {
   "cell_type": "code",
   "execution_count": 59,
   "id": "2676d4f7-2881-48d2-923e-1d63bfe4fa2a",
   "metadata": {},
   "outputs": [
    {
     "data": {
      "text/html": [
       "<div>\n",
       "<style scoped>\n",
       "    .dataframe tbody tr th:only-of-type {\n",
       "        vertical-align: middle;\n",
       "    }\n",
       "\n",
       "    .dataframe tbody tr th {\n",
       "        vertical-align: top;\n",
       "    }\n",
       "\n",
       "    .dataframe thead th {\n",
       "        text-align: right;\n",
       "    }\n",
       "</style>\n",
       "<table border=\"1\" class=\"dataframe\">\n",
       "  <thead>\n",
       "    <tr style=\"text-align: right;\">\n",
       "      <th></th>\n",
       "      <th>Name</th>\n",
       "      <th>ID</th>\n",
       "      <th>Gender</th>\n",
       "      <th>Age</th>\n",
       "      <th>Country</th>\n",
       "      <th>Genres</th>\n",
       "      <th>Popularity</th>\n",
       "      <th>Followers</th>\n",
       "    </tr>\n",
       "  </thead>\n",
       "  <tbody>\n",
       "    <tr>\n",
       "      <th>7</th>\n",
       "      <td>Ariana Grande</td>\n",
       "      <td>66CXWjxzNUsdJxJ2JdwvnR</td>\n",
       "      <td>female</td>\n",
       "      <td>27</td>\n",
       "      <td>US</td>\n",
       "      <td>['pop']</td>\n",
       "      <td>88</td>\n",
       "      <td>95710972</td>\n",
       "    </tr>\n",
       "  </tbody>\n",
       "</table>\n",
       "</div>"
      ],
      "text/plain": [
       "            Name                      ID  Gender  Age Country   Genres  \\\n",
       "7  Ariana Grande  66CXWjxzNUsdJxJ2JdwvnR  female   27      US  ['pop']   \n",
       "\n",
       "   Popularity  Followers  \n",
       "7          88   95710972  "
      ]
     },
     "execution_count": 59,
     "metadata": {},
     "output_type": "execute_result"
    }
   ],
   "source": [
    "df[df['Gender'] == 'female']    # for filtering data."
   ]
  },
  {
   "cell_type": "code",
   "execution_count": 61,
   "id": "c4b90f22-575a-43c2-b979-354cae84ad02",
   "metadata": {},
   "outputs": [
    {
     "data": {
      "text/plain": [
       "7    Ariana Grande\n",
       "Name: Name, dtype: object"
      ]
     },
     "execution_count": 61,
     "metadata": {},
     "output_type": "execute_result"
    }
   ],
   "source": [
    "df[df['Gender'] == 'female']['Name']    # Chaining"
   ]
  },
  {
   "cell_type": "code",
   "execution_count": 69,
   "id": "7ae43afb-7367-413d-9943-b5c6cda10b55",
   "metadata": {},
   "outputs": [
    {
     "data": {
      "text/html": [
       "<div>\n",
       "<style scoped>\n",
       "    .dataframe tbody tr th:only-of-type {\n",
       "        vertical-align: middle;\n",
       "    }\n",
       "\n",
       "    .dataframe tbody tr th {\n",
       "        vertical-align: top;\n",
       "    }\n",
       "\n",
       "    .dataframe thead th {\n",
       "        text-align: right;\n",
       "    }\n",
       "</style>\n",
       "<table border=\"1\" class=\"dataframe\">\n",
       "  <thead>\n",
       "    <tr style=\"text-align: right;\">\n",
       "      <th></th>\n",
       "      <th>Name</th>\n",
       "      <th>ID</th>\n",
       "      <th>Gender</th>\n",
       "      <th>Age</th>\n",
       "      <th>Country</th>\n",
       "      <th>Genres</th>\n",
       "      <th>Popularity</th>\n",
       "      <th>Followers</th>\n",
       "    </tr>\n",
       "  </thead>\n",
       "  <tbody>\n",
       "    <tr>\n",
       "      <th>0</th>\n",
       "      <td>Drake</td>\n",
       "      <td>3TVXtAsR1Inumwj472S9r4</td>\n",
       "      <td>male</td>\n",
       "      <td>33</td>\n",
       "      <td>CA</td>\n",
       "      <td>['canadian hip hop', 'canadian pop', 'hip hop'...</td>\n",
       "      <td>95</td>\n",
       "      <td>83298497</td>\n",
       "    </tr>\n",
       "    <tr>\n",
       "      <th>2</th>\n",
       "      <td>Ed Sheeran</td>\n",
       "      <td>6eUKZXaKkcviH0Ku9w2n3V</td>\n",
       "      <td>male</td>\n",
       "      <td>29</td>\n",
       "      <td>GB</td>\n",
       "      <td>['pop', 'singer-songwriter pop', 'uk pop']</td>\n",
       "      <td>87</td>\n",
       "      <td>115998928</td>\n",
       "    </tr>\n",
       "    <tr>\n",
       "      <th>3</th>\n",
       "      <td>J Balvin</td>\n",
       "      <td>1vyhD5VmyZ7KMfW5gqLgo5</td>\n",
       "      <td>male</td>\n",
       "      <td>35</td>\n",
       "      <td>CO</td>\n",
       "      <td>['reggaeton', 'reggaeton colombiano', 'trap la...</td>\n",
       "      <td>83</td>\n",
       "      <td>38028010</td>\n",
       "    </tr>\n",
       "    <tr>\n",
       "      <th>4</th>\n",
       "      <td>Bad Bunny</td>\n",
       "      <td>4q3ewBCX7sLwd24euuV69X</td>\n",
       "      <td>male</td>\n",
       "      <td>26</td>\n",
       "      <td>PR</td>\n",
       "      <td>['reggaeton', 'trap latino', 'urbano latino']</td>\n",
       "      <td>95</td>\n",
       "      <td>77931484</td>\n",
       "    </tr>\n",
       "    <tr>\n",
       "      <th>5</th>\n",
       "      <td>Justin Bieber</td>\n",
       "      <td>1uNFoZAHBGtllmzznpCI3s</td>\n",
       "      <td>male</td>\n",
       "      <td>26</td>\n",
       "      <td>CA</td>\n",
       "      <td>['canadian pop', 'pop']</td>\n",
       "      <td>88</td>\n",
       "      <td>75112165</td>\n",
       "    </tr>\n",
       "    <tr>\n",
       "      <th>6</th>\n",
       "      <td>Ozuna</td>\n",
       "      <td>1i8SpTcr7yvPOmcqrbnVXY</td>\n",
       "      <td>male</td>\n",
       "      <td>28</td>\n",
       "      <td>PR</td>\n",
       "      <td>['puerto rican pop', 'reggaeton', 'trap latino...</td>\n",
       "      <td>84</td>\n",
       "      <td>38192380</td>\n",
       "    </tr>\n",
       "    <tr>\n",
       "      <th>7</th>\n",
       "      <td>Ariana Grande</td>\n",
       "      <td>66CXWjxzNUsdJxJ2JdwvnR</td>\n",
       "      <td>female</td>\n",
       "      <td>27</td>\n",
       "      <td>US</td>\n",
       "      <td>['pop']</td>\n",
       "      <td>88</td>\n",
       "      <td>95710972</td>\n",
       "    </tr>\n",
       "  </tbody>\n",
       "</table>\n",
       "</div>"
      ],
      "text/plain": [
       "            Name                      ID  Gender  Age Country  \\\n",
       "0          Drake  3TVXtAsR1Inumwj472S9r4    male   33      CA   \n",
       "2     Ed Sheeran  6eUKZXaKkcviH0Ku9w2n3V    male   29      GB   \n",
       "3       J Balvin  1vyhD5VmyZ7KMfW5gqLgo5    male   35      CO   \n",
       "4      Bad Bunny  4q3ewBCX7sLwd24euuV69X    male   26      PR   \n",
       "5  Justin Bieber  1uNFoZAHBGtllmzznpCI3s    male   26      CA   \n",
       "6          Ozuna  1i8SpTcr7yvPOmcqrbnVXY    male   28      PR   \n",
       "7  Ariana Grande  66CXWjxzNUsdJxJ2JdwvnR  female   27      US   \n",
       "\n",
       "                                              Genres  Popularity  Followers  \n",
       "0  ['canadian hip hop', 'canadian pop', 'hip hop'...          95   83298497  \n",
       "2         ['pop', 'singer-songwriter pop', 'uk pop']          87  115998928  \n",
       "3  ['reggaeton', 'reggaeton colombiano', 'trap la...          83   38028010  \n",
       "4      ['reggaeton', 'trap latino', 'urbano latino']          95   77931484  \n",
       "5                            ['canadian pop', 'pop']          88   75112165  \n",
       "6  ['puerto rican pop', 'reggaeton', 'trap latino...          84   38192380  \n",
       "7                                            ['pop']          88   95710972  "
      ]
     },
     "execution_count": 69,
     "metadata": {},
     "output_type": "execute_result"
    }
   ],
   "source": [
    "df[(df['Age'] > 25) & (df['Popularity'] > 90)]"
   ]
  },
  {
   "cell_type": "code",
   "execution_count": 71,
   "id": "30fbe05d-935f-48dc-8daf-9990440f4aa7",
   "metadata": {},
   "outputs": [
    {
     "data": {
      "text/html": [
       "<div>\n",
       "<style scoped>\n",
       "    .dataframe tbody tr th:only-of-type {\n",
       "        vertical-align: middle;\n",
       "    }\n",
       "\n",
       "    .dataframe tbody tr th {\n",
       "        vertical-align: top;\n",
       "    }\n",
       "\n",
       "    .dataframe thead th {\n",
       "        text-align: right;\n",
       "    }\n",
       "</style>\n",
       "<table border=\"1\" class=\"dataframe\">\n",
       "  <thead>\n",
       "    <tr style=\"text-align: right;\">\n",
       "      <th></th>\n",
       "      <th>Name</th>\n",
       "      <th>ID</th>\n",
       "      <th>Gender</th>\n",
       "      <th>Age</th>\n",
       "      <th>Country</th>\n",
       "      <th>Genres</th>\n",
       "      <th>Popularity</th>\n",
       "      <th>Followers</th>\n",
       "    </tr>\n",
       "  </thead>\n",
       "  <tbody>\n",
       "    <tr>\n",
       "      <th>0</th>\n",
       "      <td>Drake</td>\n",
       "      <td>3TVXtAsR1Inumwj472S9r4</td>\n",
       "      <td>male</td>\n",
       "      <td>33</td>\n",
       "      <td>CA</td>\n",
       "      <td>['canadian hip hop', 'canadian pop', 'hip hop'...</td>\n",
       "      <td>95</td>\n",
       "      <td>83298497</td>\n",
       "    </tr>\n",
       "    <tr>\n",
       "      <th>2</th>\n",
       "      <td>Ed Sheeran</td>\n",
       "      <td>6eUKZXaKkcviH0Ku9w2n3V</td>\n",
       "      <td>male</td>\n",
       "      <td>29</td>\n",
       "      <td>GB</td>\n",
       "      <td>['pop', 'singer-songwriter pop', 'uk pop']</td>\n",
       "      <td>87</td>\n",
       "      <td>115998928</td>\n",
       "    </tr>\n",
       "    <tr>\n",
       "      <th>3</th>\n",
       "      <td>J Balvin</td>\n",
       "      <td>1vyhD5VmyZ7KMfW5gqLgo5</td>\n",
       "      <td>male</td>\n",
       "      <td>35</td>\n",
       "      <td>CO</td>\n",
       "      <td>['reggaeton', 'reggaeton colombiano', 'trap la...</td>\n",
       "      <td>83</td>\n",
       "      <td>38028010</td>\n",
       "    </tr>\n",
       "    <tr>\n",
       "      <th>4</th>\n",
       "      <td>Bad Bunny</td>\n",
       "      <td>4q3ewBCX7sLwd24euuV69X</td>\n",
       "      <td>male</td>\n",
       "      <td>26</td>\n",
       "      <td>PR</td>\n",
       "      <td>['reggaeton', 'trap latino', 'urbano latino']</td>\n",
       "      <td>95</td>\n",
       "      <td>77931484</td>\n",
       "    </tr>\n",
       "    <tr>\n",
       "      <th>5</th>\n",
       "      <td>Justin Bieber</td>\n",
       "      <td>1uNFoZAHBGtllmzznpCI3s</td>\n",
       "      <td>male</td>\n",
       "      <td>26</td>\n",
       "      <td>CA</td>\n",
       "      <td>['canadian pop', 'pop']</td>\n",
       "      <td>88</td>\n",
       "      <td>75112165</td>\n",
       "    </tr>\n",
       "    <tr>\n",
       "      <th>6</th>\n",
       "      <td>Ozuna</td>\n",
       "      <td>1i8SpTcr7yvPOmcqrbnVXY</td>\n",
       "      <td>male</td>\n",
       "      <td>28</td>\n",
       "      <td>PR</td>\n",
       "      <td>['puerto rican pop', 'reggaeton', 'trap latino...</td>\n",
       "      <td>84</td>\n",
       "      <td>38192380</td>\n",
       "    </tr>\n",
       "    <tr>\n",
       "      <th>7</th>\n",
       "      <td>Ariana Grande</td>\n",
       "      <td>66CXWjxzNUsdJxJ2JdwvnR</td>\n",
       "      <td>female</td>\n",
       "      <td>27</td>\n",
       "      <td>US</td>\n",
       "      <td>['pop']</td>\n",
       "      <td>88</td>\n",
       "      <td>95710972</td>\n",
       "    </tr>\n",
       "  </tbody>\n",
       "</table>\n",
       "</div>"
      ],
      "text/plain": [
       "            Name                      ID  Gender  Age Country  \\\n",
       "0          Drake  3TVXtAsR1Inumwj472S9r4    male   33      CA   \n",
       "2     Ed Sheeran  6eUKZXaKkcviH0Ku9w2n3V    male   29      GB   \n",
       "3       J Balvin  1vyhD5VmyZ7KMfW5gqLgo5    male   35      CO   \n",
       "4      Bad Bunny  4q3ewBCX7sLwd24euuV69X    male   26      PR   \n",
       "5  Justin Bieber  1uNFoZAHBGtllmzznpCI3s    male   26      CA   \n",
       "6          Ozuna  1i8SpTcr7yvPOmcqrbnVXY    male   28      PR   \n",
       "7  Ariana Grande  66CXWjxzNUsdJxJ2JdwvnR  female   27      US   \n",
       "\n",
       "                                              Genres  Popularity  Followers  \n",
       "0  ['canadian hip hop', 'canadian pop', 'hip hop'...          95   83298497  \n",
       "2         ['pop', 'singer-songwriter pop', 'uk pop']          87  115998928  \n",
       "3  ['reggaeton', 'reggaeton colombiano', 'trap la...          83   38028010  \n",
       "4      ['reggaeton', 'trap latino', 'urbano latino']          95   77931484  \n",
       "5                            ['canadian pop', 'pop']          88   75112165  \n",
       "6  ['puerto rican pop', 'reggaeton', 'trap latino...          84   38192380  \n",
       "7                                            ['pop']          88   95710972  "
      ]
     },
     "execution_count": 71,
     "metadata": {},
     "output_type": "execute_result"
    }
   ],
   "source": [
    "# Also\n",
    "df[(df['Age'] > 25) | (df['Popularity'] > 90)]"
   ]
  },
  {
   "cell_type": "code",
   "execution_count": 73,
   "id": "85cde4af-2cd7-4b42-8e26-f64ba29bec67",
   "metadata": {},
   "outputs": [
    {
     "data": {
      "text/html": [
       "<div>\n",
       "<style scoped>\n",
       "    .dataframe tbody tr th:only-of-type {\n",
       "        vertical-align: middle;\n",
       "    }\n",
       "\n",
       "    .dataframe tbody tr th {\n",
       "        vertical-align: top;\n",
       "    }\n",
       "\n",
       "    .dataframe thead th {\n",
       "        text-align: right;\n",
       "    }\n",
       "</style>\n",
       "<table border=\"1\" class=\"dataframe\">\n",
       "  <thead>\n",
       "    <tr style=\"text-align: right;\">\n",
       "      <th></th>\n",
       "      <th>Name</th>\n",
       "      <th>ID</th>\n",
       "      <th>Gender</th>\n",
       "      <th>Age</th>\n",
       "      <th>Country</th>\n",
       "      <th>Genres</th>\n",
       "      <th>Popularity</th>\n",
       "      <th>Followers</th>\n",
       "    </tr>\n",
       "  </thead>\n",
       "  <tbody>\n",
       "    <tr>\n",
       "      <th>0</th>\n",
       "      <td>Drake</td>\n",
       "      <td>3TVXtAsR1Inumwj472S9r4</td>\n",
       "      <td>male</td>\n",
       "      <td>33</td>\n",
       "      <td>CA</td>\n",
       "      <td>['canadian hip hop', 'canadian pop', 'hip hop'...</td>\n",
       "      <td>95</td>\n",
       "      <td>83298497</td>\n",
       "    </tr>\n",
       "  </tbody>\n",
       "</table>\n",
       "</div>"
      ],
      "text/plain": [
       "    Name                      ID Gender  Age Country  \\\n",
       "0  Drake  3TVXtAsR1Inumwj472S9r4   male   33      CA   \n",
       "\n",
       "                                              Genres  Popularity  Followers  \n",
       "0  ['canadian hip hop', 'canadian pop', 'hip hop'...          95   83298497  "
      ]
     },
     "execution_count": 73,
     "metadata": {},
     "output_type": "execute_result"
    }
   ],
   "source": [
    "# Querying with .query()\n",
    "df.query(\"Age > 30 and Popularity > 90\")      # IT IS BASED ON SQL."
   ]
  },
  {
   "cell_type": "code",
   "execution_count": null,
   "id": "e8725b1c-6a71-46fc-a5b9-dc39cd9b1425",
   "metadata": {},
   "outputs": [],
   "source": [
    "# Queries:-\n",
    "\n",
    "# 1. Column names become variables\n",
    "# You can reference column names directly in the query string:\n",
    "\n",
    "# df.query(\"age > 25 and city == 'Delhi'\")\n",
    "\n",
    "# 2. String values must be in quotes\n",
    "# Use single or double quotes around strings in the expression:\n",
    "\n",
    "# df.query(\"name == 'Harry'\")\n",
    "\n",
    "# If you have quotes inside quotes, mix them:\n",
    "\n",
    "# df.query('city == \"Mumbai\"')\n",
    "\n",
    "# 3. Use backticks for column names with spaces or special characters\n",
    "# If a column name has spaces, use backticks (`):\n",
    "\n",
    "# df.query(\"`first name` == 'Alice'\")\n",
    "\n",
    "# 4. You can use @ to reference Python variables\n",
    "# To pass external variables into .query():\n",
    "\n",
    "# age_limit = 30\n",
    "# df.query(\"age > @age_limit\")\n",
    "\n",
    "# 5. Logical operators\n",
    "# Use these:\n",
    "\n",
    "# and, or, not — instead of &, |, ~\n",
    "# ==, !=, <, >, <=, >=\n",
    "# Bad:\n",
    "\n",
    "# df.query(\"age > 30 & city == 'Delhi'\")  # ❌\n",
    "\n",
    "# Good:\n",
    "\n",
    "# df.query(\"age > 30 and city == 'Delhi'\")  # ✅\n",
    "\n",
    "# 6. Chained comparisons\n",
    "# Just like Python:\n",
    "\n",
    "# df.query(\"25 < age <= 40\")\n",
    "\n",
    "# 7. Avoid using reserved keywords as column names\n",
    "# If you have a column named class, lambda, etc., you’ll need to use backticks:\n",
    "\n",
    "# df.query(\"`class` == 'Physics'\")\n",
    "\n",
    "# 8. Case-sensitive\n",
    "# Column names and string values are case-sensitive:\n",
    "\n",
    "# df.query(\"City == 'delhi'\")  # ❌ if actual value is 'Delhi'\n",
    "\n",
    "# 9. .query() returns a copy, not a view\n",
    "# The result is a new DataFrame. Changes won't affect the original unless reassigned:\n",
    "\n",
    "# filtered = df.query(\"age < 50\")"
   ]
  }
 ],
 "metadata": {
  "kernelspec": {
   "display_name": "Python [conda env:base] *",
   "language": "python",
   "name": "conda-base-py"
  },
  "language_info": {
   "codemirror_mode": {
    "name": "ipython",
    "version": 3
   },
   "file_extension": ".py",
   "mimetype": "text/x-python",
   "name": "python",
   "nbconvert_exporter": "python",
   "pygments_lexer": "ipython3",
   "version": "3.12.7"
  }
 },
 "nbformat": 4,
 "nbformat_minor": 5
}
