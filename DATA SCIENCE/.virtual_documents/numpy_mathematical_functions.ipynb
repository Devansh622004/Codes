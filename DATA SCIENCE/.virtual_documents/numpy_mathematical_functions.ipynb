import numpy as np


arr = np.array([10, 20, 30, 40])
np.mean(arr)


np.min(arr)


np.max(arr)


np.std(arr)  # STANDARD DEVIATION


np.var(arr)                         # FOR VARIANCE


np.sum(arr)


np.prod(arr)                        # FOR PRODUCT


np.median(arr)


np.percentile(arr, 50)  # For the 50th percentile (median)


np.argmin(arr)                # Return the index of the minimum value in an array.


np.argmax(arr)                # Return the index of the maximum value in an array.


arr1 = np.array([11, 12, 13, 14])
arr2 = np.array([1, 2, 3, 4])
np.corrcoef(arr1, arr2)       # np.corrcoef(arr1, arr2)


np.unique(arr)                # Find the unique elements of an array.


# np.diff() – Compute the n-th differences of an array.

np.diff(arr)


# np.cumsum() – Compute the cumulative sum of an array.

np.cumsum(arr)


# np.linspace() – Create an array with evenly spaced numbers over a specified interval.

np.linspace(0, 10, 5)  # 5 numbers from 0 to 10


# np.log() – Compute the natural logarithm of an array.

np.log(arr)


# np.exp() – Compute the exponential of an array.

np.exp(arr)
