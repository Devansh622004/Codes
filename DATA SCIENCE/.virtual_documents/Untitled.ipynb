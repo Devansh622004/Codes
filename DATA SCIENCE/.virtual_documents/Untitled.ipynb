import pandas as pd


# Pandas is built on two main data structures:

# Series → One-dimensional (like a single column in Excel)
# DataFrame → Two-dimensional (like a full spreadsheet or SQL table)


# Series — 1D Labeled Array
# A Series is like a list with labels (index).

s1 = pd.Series([10, 20, 30, 40])


s1


type(s1)


# WE CAN ALSO CHANGE THE INDEXES(i.e. 0, 1, 2, ..., n).

s2 = pd.Series([60, 70, 85, 90], index=["RUDRA", "VASU", "RAGHAV", "SHAGUN"])
s2


# DataFrame — 2D Labeled Table
# A DataFrame is like a dictionary of Series — multiple columns with labels.

data = {
    "name": ["Alice", "Bob", "Charlie"],
    "age": [25, 30, 35],
    "city": ["Delhi", "Mumbai", "Bangalore"]
}

df = pd.DataFrame(data)
print(df)


df.index


df.columns



