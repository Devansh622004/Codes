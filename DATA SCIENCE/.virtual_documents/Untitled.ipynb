# ! pip install library_name                     --> USED TO INSTALL ANY MODE OR LIBRARY IN JUPYTER.


import numpy as np


arr1 = np.array([1, 2, 3, 4, 5])            # 1-D ARRAY
arr2 = np.array([[1, 2, 3], [4, 5, 6]])     # 2-D ARRAy

print(arr1)
print(arr2)


np.zeros((3, 4))                           # USED TO GENERATE ARRAY OF 0s.


np.ones((2, 3))                            # USED TO GENERATE ARRAY OF 0s.


np.full((3, 4), 1)                       # USED TO GENERATE ARRAY OF ANY CHARACTER.


np.eye(5)                                # USED TO GENERATE 'identity matrix'.


np.arange(1, 100, 9)                    # USED TO CREATE AN ARRAY FROM 1 - (N-1), WITH THE GAP IN BETWEEN(3RD ARG.)


np.linspace(1, 100, 5)                  # USED TO CREATE AN ARRAY FROM 1 - (N-1), EVENLY SPACED


arr = np.array([[1, 2, 3], [4, 5, 6], [7, 8, 9], [10, 11, 12]])


arr


arr.shape


arr.size


arr.ndim



