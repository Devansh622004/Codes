import numpy as np


# VECTORIZED OPERATION

arr = np.array([1, 2, 3, 4, 5])
result = arr**2
print(result)


arr1 = np.array([10, 20, 30, 40, 50])
arr2 = np.array([60, 70, 80, 90, 100])
result = arr1 + arr2
print(result)



