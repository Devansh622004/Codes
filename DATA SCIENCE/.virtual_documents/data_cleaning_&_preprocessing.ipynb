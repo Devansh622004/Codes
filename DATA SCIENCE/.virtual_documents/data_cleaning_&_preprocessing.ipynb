import pandas as pd


df = pd.read_csv("data_cleaning_sample.csv")


df.isnull()    # Its shows 'True' at places where 'value is missing'.


df.isnull().sum()    # It shows the total no. of items which are missing infront of their respected columns.


df.dropna()    # 'dropna()' removes rows that contain at least one missing value (NaN).


df.dropna(axis=1)    # this line removes all the columns which have missing values.


df.fillna(0)    # it places '0' in missing places.


df["Age"].fillna(df["Age"].mean())    # Fill the missing places with mean(or average) of all the items of that column.


# 1. ffill → Forward Fill
# Fills the missing value with the previous non-missing value (forward direction).
# Example: carry the last valid value downwards.

df.fillna(method="ffill")


# 2. bfill (sometimes called dfill) → Backward Fill
# Fills the missing value with the next non-missing value (backward direction).
# Example: push the next valid value upwards.

df.fillna(method="bfill")


df


# DETECTING & REMOVING DUPLICATES

df.duplicated()    # Shows the duplicated values -> True


df.drop_duplicates()


df.duplicated(subset=["Name", "Age"])



