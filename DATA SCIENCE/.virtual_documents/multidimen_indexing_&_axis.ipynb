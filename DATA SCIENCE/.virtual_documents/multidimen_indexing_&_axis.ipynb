import numpy as np


arr = np.array([[1, 2, 3],
                [4, 5, 6],
                [7, 8, 9]])


np.sum(arr)                        # SUM OF ALL ELEMENTS. 


np.sum(arr, axis=0)                # VERTICALLY SUM OF ELEMENTS.


np.sum(arr, axis=1)                # HORIZONTALLY SUM OF ELEMENTS.


arr[0,0]                           # FOR ACCESSING ELEMENTS.


# OR

arr[0][1]


arr[0:2, 1:3]


# Indexing in 3D Arrays

arr3D = np.array([[[1, 2, 3], [4, 5, 6]],
                  [[7, 8, 9], [10, 11, 12]]])

# Output of arr3D.shape is → (depth, rows, columns)
print(arr3D.shape) # Output: (2    , 2   , 3) 


# Accessing elements in 3D:

# First sheet, second row, third column
print(arr3D[0, 1, 2])  # Output: 6

print(arr3D[:, 0, :])   # Get the first row from both sheets


# Practical Example: Selecting Data Along Axes

# Get all rows of the first column
first_col = arr[:, 0]
print(first_col, "\n")  # Output: [1 4 7]

# Get the first row from each "sheet" in a 3D array
first_rows = arr3D[:, 0, :]
print(first_rows)


# Changing Data Along an Axis

# Replace all elements in column 1 with 0

arr[:, 1] = 0
print(arr)



