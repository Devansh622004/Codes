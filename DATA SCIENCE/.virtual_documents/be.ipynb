import heapq  

def best_first_search(graph, heuristic, start, goal):
    # Priority queue -> (heuristic value, node, path)
    priority_queue = []
    heapq.heappush(priority_queue, (heuristic[start], start, [start]))

    visited = set()
    came_from = {start: None}

    while priority_queue:
        current_h, current_node, path = heapq.heappop(priority_queue)
        print(f"Visiting: {current_node} with Heuristic: {current_h}")

        if current_node == goal:
            print("Goal reached!")
            print("Path:", ' -> '.join(path))
            return path

        visited.add(current_node)

        for neighbor in graph.get(current_node, []):
            if neighbor not in visited:
                came_from[neighbor] = current_node
                heapq.heappush(priority_queue, (heuristic[neighbor], neighbor, path + [neighbor]))

    print("No path found from", start, "to", goal)
    return None


# Graph definition (Adjacency List)
graph = {
    'A': ['B', 'C'],
    'B': ['D', 'E'],
    'C': ['F'],
    'D': [],
    'E': ['G'],
    'F': [],
    'G': []
}

# Heuristic values (towards goal 'G')
heuristic = {
    'A': 6,
    'B': 4,
    'C': 5,
    'D': 7,
    'E': 2,
    'F': 8,
    'G': 0
}

# User input
start_node = input("Enter the Start Node: ").strip().upper()
goal_node = input("Enter the Goal Node: ").strip().upper()

if start_node not in graph or goal_node not in graph:
    print("Invalid Start or Goal Node.")
else:
    best_first_search(graph, heuristic, start_node, goal_node)




