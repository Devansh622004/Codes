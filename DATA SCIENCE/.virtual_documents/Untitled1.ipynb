# Importing all essential Modules

from collections import deque    # for fast moving & removing items
from typing import Dict, List, Set    # for typing hints
import networkx as nx    # to create & handle graphs
import matplotlib.pyplot as plt    # to draw & show the graph





# Creation of Graph using Dictionary

if __name__ = "__main__":
    graph = {   
    0: [1, 2],
    1: [2, 3],
    2: [3],
    3: [4],
    4: [0, 1, 5],
    5: []
}



