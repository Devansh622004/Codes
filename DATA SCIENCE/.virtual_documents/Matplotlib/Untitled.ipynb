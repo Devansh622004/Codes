import matplotlib.pyplot as plt
import numpy as np

# Data
x = np.linspace(-10, 10, 100)
y = x ** 2

# Plot
plt.plot(x, y, color='green', linewidth=2)

# Labels and Title
plt.xlabel("X-axis")
plt.ylabel("Y = X²")
plt.title("Plot of y = x² Function")
plt.grid(True)
plt.tight_layout()

# Display Graph
plt.show()




