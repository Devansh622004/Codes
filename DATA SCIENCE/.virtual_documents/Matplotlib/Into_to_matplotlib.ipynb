import matplotlib.pyplot as plt


plt.plot([1, 2], [9, 1])


plt.show()


# Real Data Example: Sachin Tendulkar’s Runs Over Time

years = [1990, 1992, 1994, 1996, 1998, 2000, 2003, 2005, 2007, 2010]
runs =  [500, 700, 1100, 1500, 1800, 1200, 1700, 1300, 900, 1500]

plt.plot(years, runs)
plt.show()


plt.plot(years, runs)
plt.xlabel("Years")
plt.ylabel("Runs Scored")
plt.title("Sachin Tendulkar's Runs")


# If we want to plot two graphs in single Visualization.

kohli = [0, 0, 500, 800, 1100, 1300, 1500, 1800, 1900, 2100]
sehwag = [0, 300, 800, 1200, 1500, 1700, 1600, 1400, 1000, 0]

plt.plot(years, kohli, label="Virat Kohli")    # sets the label for this line, which will appear in the legend.
plt.plot(years, sehwag, label="Virender Sehwag")

plt.xlabel("Year")    
plt.ylabel("Runs Scored")
plt.title("Performance Comparison")
plt.legend()
plt.show()


plt.plot(years, kohli, 'ro--', label="Kohli")  # red circles with dashed lines
plt.plot(years, sehwag, 'g^:', label="Sehwag")  # green triangles dotted
plt.legend()


plt.plot(years, kohli, color='orange', linestyle='--', linewidth=10, label="Kohli")    # For Increasing Width
plt.plot(years, sehwag, color='green', linestyle='-.', label="Sehwag")
plt.plot(years, runs, color='blue', label="Tendulkar")
plt.legend()
plt.tight_layout()
# plt.tight_layout() automatically adjusts the spacing between subplots so that:
# Axis labels
# Titles
# Tick labels
# Legends
# …don’t overlap with each other or get cut off.
plt.grid(True)


import numpy as np

for i in range(50):
    plt.plot(np.random.rand(100), linewidth=1)

plt.title("Too Much Data Can Be Confusing!")
plt.grid(True)
plt.tight_layout()
plt.show()



