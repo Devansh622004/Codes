import pandas as pd


df = pd.read_csv("Artists.csv")


df


df.head


df['Name']


df['Name'][2]


type(df)


df.loc[5]    # For Accessing A particular Row By Label.


df.iloc[5]   # For Accessing A particular Row By Index/Position.


df.loc[6, "Name"]    # loc[x-axis, y-axis(name)]


df.iloc[6, 0]        # iloc[x-axis, y-axis]


df.loc[0:4, ['Name', 'Country']]    # Inclusive


df.iloc[0:4, 0:4]    # Exclusive


df.at[0, 'Name']    # For accessing a particular cell.


df.iat[0, 0]    # Slower than "at".


df[df['Gender'] == 'female']    # for filtering data.


df[df['Gender'] == 'female']['Name']    # Chaining


df[(df['Age'] > 25) & (df['Popularity'] > 90)]


# Also
df[(df['Age'] > 25) | (df['Popularity'] > 90)]


# Querying with .query()
df.query("Age > 30 and Popularity > 90")



