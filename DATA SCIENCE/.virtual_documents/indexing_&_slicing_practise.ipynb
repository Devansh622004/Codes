import numpy as np


arr = np.random.rand(3, 3)
print(arr)


arr2 = np.random.randint(0, 10, size=(3, 3))


arr2


arr.shape
arr2.shape


arr3 = np.array([1.1, 2.2, 3.3])
arr4 = arr3.astype(int)


arr4


arr5 = np.array([1, 2, 3, 4, 5, 6])
fancy_arr5 = arr5[arr5 % 2 == 0]
print(fancy_arr5)   


fancy_arr5


# create arr6 (must have 9 elements if you want reshape(3,3))
arr6 = np.array([1, 2, 3, 4, 5, 6, 7, 8, 9])

# now reshape works
arr6_new = arr6.reshape(3, 3)
print(arr6_new)



# BOOLEAN MASKING

arr7 = np.array([10, 55, 60, 30, 45, 100])

# Boolean mask for numbers > 50
mask = arr7 > 50
print("Mask:", mask)      # [False False False  True  True False  True]

# Apply mask to filter
result = arr7[mask]
print("Numbers > 50:", result)



