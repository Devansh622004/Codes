# CSV files are smaller in size as compared to ".XLSX" files.
import pandas as pd


df = pd.read_csv("data.csv")


df


# ALSO
df = pd.read_excel("data.csv")


df


df = pd.read_json("data (2).json")


df


df
