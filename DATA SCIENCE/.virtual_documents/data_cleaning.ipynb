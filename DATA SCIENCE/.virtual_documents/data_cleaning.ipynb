import json


# Load the data.
def clean_data(data):
    data["users"] = [user for user in data["users"] if user["name"].strip()] # strip() is a string method that removes characters from both the start and end of a string (by default, it removes whitespace, including spaces, tabs, and newlines).

    # Remove duplicate friends
    for user in data["users"]:
        user['friends'] = list(set(user['friends'])) # AS SET DON'T CONTAINS DUPLICATE VALUES.

    # Remove inactive users
    data['users'] = [user for user in data['users'] if user['friends'] or user['liked_pages']]

    # Remove duplicate pages
    unique_pages = {}
    for page in data['pages']:
        unique_pages[page['id']] = page
    data['pages'] = list(unique_pages.values())

    return data
    
# Load the data
data = json.load(open("data2.json")) # load() usually means “read serialized data from a file-like object and convert it back into a Python object.”
data = clean_data(data) 
json.dump(data, open("cleaned_data2.json", "w"), indent=4) # used to serialize (convert) a Python object into JSON format and write it directly to a file-like object.
print("Data has been cleaned successfully")



