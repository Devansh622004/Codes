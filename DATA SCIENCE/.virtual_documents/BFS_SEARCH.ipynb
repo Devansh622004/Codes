from collections import deque       # deque → special queue used in BFS (fast for adding/removing items).
from typing import Dict, List, Set  # typing → only for type hints (helps PyCharm, no effect on output).
import networkx as nx               # networkx → to create & handle graphs.
import matplotlib.pyplot as plt     # matplotlib → to draw and show the graph.


def visualize_graph(graph: Dict[str, List[str]]) -> None:
    """
    Visualize the given directed graph using NetworkX and Matplotlib.

    Args:
        graph (Dict[str, List[str]]): Graph represented as an adjacency list.
    """
    G = nx.DiGraph()
    for node, neighbors in graph.items():
        for neighbor in neighbors:
            G.add_edge(node, neighbor)

    plt.figure(figsize=(8, 5))
    pos = nx.spring_layout(G)  # Position nodes
    nx.draw_networkx(G, pos, with_labels=True, node_color='skyblue',
                     node_size=1500, edge_color='gray',
                     font_size=12, font_weight='bold')
    plt.title("Graph Visualization for BFS")
    plt.show()


def bfs(graph: Dict[str, List[str]], start_node: str) -> List[str]:
    """
    Perform Breadth-First Search (BFS) on a given graph.

    Args:
        graph (Dict[str, List[str]]): Graph represented as an adjacency list.
        start_node (str): The starting node for BFS.

    Returns:
        List[str]: Order of nodes visited during BFS.
    """
    visited: Set[str] = set()
    queue: deque[str] = deque([start_node])
    visited.add(start_node)
    bfs_order: List[str] = []

    print("BFS Traversal Order:")
    while queue:
        current_node = queue.popleft()
        print(current_node, end=' ')
        bfs_order.append(current_node)

        for neighbor in graph[current_node]:
            if neighbor not in visited:
                visited.add(neighbor)
                queue.append(neighbor)

    return bfs_order


if __name__ == "__main__":
    # Define the graph using adjacency list
    graph_data: Dict[str, List[str]] = {
        'A': ['B', 'C'],
        'B': ['D', 'E'],
        'C': ['F'],
        'D': [],
        'E': ['F'],
        'F': []
    }

    start_node_input = input("ENTER ONE OF THE OPTION FROM:- \n [A, B, C, D, E, F]")

    visualize_graph(graph_data)
    
    traversal_order = bfs(graph_data, start_node_input)









