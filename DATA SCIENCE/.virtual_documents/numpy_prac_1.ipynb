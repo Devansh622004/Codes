# Exercises for Practice
# Create a NumPy array with values from 10 to 100 and print its shape.
# Compare the time taken to multiply two Python lists vs. two NumPy arrays.
# Find the memory size of a NumPy array with 1 million elements.

import numpy as np
import time

arr = np.array(range(10, 101))

# Print array
print("Array:", arr)

# Print shape
print("Shape:", arr.shape)  # ".shape" attribute tells you the dimensions of the array
                            # — basically how many elements are in each axis (rows, columns, etc.).



l1 = [1, 2, 3, 4, 5]
l2 = [6, 7, 8, 9, 10]

start = time.time()
l3 = [l1[i] * l2[i] for i in range(len(l1))]
print("l1 * l2 =", l3)
end = time.time()

print(end - start)


arr1 = np.array(range(6))
arr2 = np.array(range(6))

start = time.time()
l4 = arr1 * arr2
print(l4)
end = time.time()

print(end - start)


size = 1_000_000
arr = np.array(range(size))

print("Array size in bytes:", arr.nbytes)

