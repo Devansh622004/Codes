{
  "nbformat": 4,
  "nbformat_minor": 0,
  "metadata": {
    "colab": {
      "provenance": []
    },
    "kernelspec": {
      "name": "python3",
      "display_name": "Python 3"
    },
    "language_info": {
      "name": "python"
    }
  },
  "cells": [
    {
      "cell_type": "code",
      "execution_count": null,
      "metadata": {
        "colab": {
          "base_uri": "https://localhost:8080/"
        },
        "id": "_ViXAKJyatJO",
        "outputId": "cfc39667-ea66-4bb8-b367-06623d1b2fbe"
      },
      "outputs": [
        {
          "output_type": "stream",
          "name": "stdout",
          "text": [
            "Path: ['S', 'A', 'C', 'G']\n",
            "Total cost: 8\n"
          ]
        }
      ],
      "source": [
        "import heapq  # for priority queue\n",
        "\n",
        "# A* Algorithm Implementation\n",
        "def a_star(graph, start, goal, heuristic):\n",
        "\n",
        "    pq = [(heuristic[start], start, [start], 0)]\n",
        "    visited = set()\n",
        "\n",
        "    while pq:\n",
        "        f, current, path, g = heapq.heappop(pq)\n",
        "\n",
        "        if current in visited:\n",
        "            continue\n",
        "        visited.add(current)\n",
        "\n",
        "        # If goal is found\n",
        "        if current == goal:\n",
        "            return path, g\n",
        "\n",
        "        # Explore neighbors\n",
        "        for neighbor, cost in graph[current]:\n",
        "            if neighbor not in visited:\n",
        "                g_new = g + cost\n",
        "                f_new = g_new + heuristic[neighbor]\n",
        "                heapq.heappush(pq, (f_new, neighbor, path + [neighbor], g_new))\n",
        "\n",
        "\n",
        "\n",
        "# Example Graph (Adjacency List with edge cost)\n",
        "graph = {\n",
        "    'S': [('A', 1), ('B', 4)],\n",
        "    'A': [('C', 2), ('D', 5)],\n",
        "    'B': [('D', 1)],\n",
        "    'C': [('G', 5)],\n",
        "    'D': [('G', 2)],\n",
        "    'G': []\n",
        "}\n",
        "\n",
        "# Example Heuristic values (h)\n",
        "heuristic = {\n",
        "    'S': 7,\n",
        "    'A': 6,\n",
        "    'B': 4,\n",
        "    'C': 2,\n",
        "    'D': 1,\n",
        "    'G': 0\n",
        "}\n",
        "\n",
        "# Run A*\n",
        "path, cost = a_star(graph, 'S', 'G', heuristic)\n",
        "\n",
        "print(\"Path:\", path)\n",
        "print(\"Total cost:\", cost)\n"
      ]
    }
  ]
}