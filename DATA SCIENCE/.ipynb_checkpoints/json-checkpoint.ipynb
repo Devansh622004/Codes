{
 "cells": [
  {
   "cell_type": "code",
   "execution_count": null,
   "id": "3c37b338-4036-4b37-8f26-53ad95e62e53",
   "metadata": {},
   "outputs": [],
   "source": [
    "# WHY \"json data\" IS COMMONLY USED ?\n",
    "# ANS. 1) FOR CONFIGURATION FILES.\n",
    "#      2) FOR STORING SOME TYPE OF DATA.\n",
    "#      3) OR COMMONLY FOR API.\n",
    "\n",
    "# Summary of Common JSON Methods:-\n",
    "\n",
    "# Method\tDescription\tExample:-\n",
    "\n",
    "# json.dumps(obj)\t         Converts Python object to JSON string\t  json.dumps(data)\n",
    "# json.dump(obj, file)\t     Writes JSON to a file\t                  json.dump(data, file)\n",
    "# json.loads(json_string)\t Converts JSON string to Python object\t  json.loads(json_data)\n",
    "# json.load(file)\t         Reads JSON from a file\t                  json.load(file)\n"
   ]
  },
  {
   "cell_type": "code",
   "execution_count": 4,
   "id": "fa31c360-1ebe-426c-894d-f7d75b025860",
   "metadata": {},
   "outputs": [],
   "source": [
    "import json   #The json module in Python is used to work with JSON data (JavaScript Object Notation)."
   ]
  },
  {
   "cell_type": "code",
   "execution_count": 6,
   "id": "99701786-f71c-4508-af9d-e54f0a014f8a",
   "metadata": {},
   "outputs": [
    {
     "name": "stdout",
     "output_type": "stream",
     "text": [
      "{\"name\": \"Devansh\", \"company\": \"Netflix\", \"salary\": 100000}\n"
     ]
    }
   ],
   "source": [
    "obj = {\"name\": \"Devansh\", \"company\": \"Netflix\", \"salary\": 100000}\n",
    "s = json.dumps(obj) #json.dumps() in Python is used to convert a Python object (like a dictionary or list) into a JSON-formatted string.\n",
    "type(s)\n",
    "print(s)"
   ]
  },
  {
   "cell_type": "code",
   "execution_count": 8,
   "id": "eeaa5dd1-97f4-4fde-85b3-23a7343a6d8d",
   "metadata": {},
   "outputs": [],
   "source": [
    "d = json.loads('{\"name\": \"Devansh\", \"company\": \"Netflix\", \"salary\": 100000}') # json.loads() in Python is used to convert a JSON-formatted string into a Python object (like a dictionary)."
   ]
  },
  {
   "cell_type": "code",
   "execution_count": 10,
   "id": "c5f58d83-e4e3-4bd2-9b9b-5706d62fb44f",
   "metadata": {},
   "outputs": [
    {
     "data": {
      "text/plain": [
       "dict"
      ]
     },
     "execution_count": 10,
     "metadata": {},
     "output_type": "execute_result"
    }
   ],
   "source": [
    "type(d)"
   ]
  },
  {
   "cell_type": "code",
   "execution_count": 26,
   "id": "534e926c-51cb-49dd-aca2-374c4496b014",
   "metadata": {},
   "outputs": [],
   "source": [
    "file = open(\"data.json\", \"w\")"
   ]
  },
  {
   "cell_type": "code",
   "execution_count": 28,
   "id": "7cbe32a4-f559-4279-af94-1fc1f1ac75a0",
   "metadata": {},
   "outputs": [],
   "source": [
    "json.dump(obj,file)"
   ]
  },
  {
   "cell_type": "code",
   "execution_count": 35,
   "id": "2a72b1a9-e09a-4869-8aba-1061f0d4035b",
   "metadata": {},
   "outputs": [],
   "source": [
    "formatted_file = json.dumps(obj, indent = 4)   # WE CAN ALSO FORMAT OUR DATA INSIDE THE FILE."
   ]
  },
  {
   "cell_type": "code",
   "execution_count": 37,
   "id": "01cfa279-2f71-4f5a-bae0-39f3e8ad6039",
   "metadata": {},
   "outputs": [
    {
     "name": "stdout",
     "output_type": "stream",
     "text": [
      "{\n",
      "    \"name\": \"Devansh\",\n",
      "    \"company\": \"Netflix\",\n",
      "    \"salary\": 100000\n",
      "}\n"
     ]
    }
   ],
   "source": [
    "print(formatted_file)"
   ]
  },
  {
   "cell_type": "code",
   "execution_count": 39,
   "id": "7eac2c20-80e9-4758-a759-578d7fae140d",
   "metadata": {},
   "outputs": [],
   "source": [
    "file.close()"
   ]
  },
  {
   "cell_type": "code",
   "execution_count": null,
   "id": "986b0f60-ff30-4956-81c5-9bc6e5788f36",
   "metadata": {},
   "outputs": [],
   "source": []
  }
 ],
 "metadata": {
  "kernelspec": {
   "display_name": "Python [conda env:base] *",
   "language": "python",
   "name": "conda-base-py"
  },
  "language_info": {
   "codemirror_mode": {
    "name": "ipython",
    "version": 3
   },
   "file_extension": ".py",
   "mimetype": "text/x-python",
   "name": "python",
   "nbconvert_exporter": "python",
   "pygments_lexer": "ipython3",
   "version": "3.12.7"
  }
 },
 "nbformat": 4,
 "nbformat_minor": 5
}
