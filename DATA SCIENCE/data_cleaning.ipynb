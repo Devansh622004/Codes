{
 "cells": [
  {
   "cell_type": "code",
   "execution_count": 3,
   "id": "0900e94d-c658-4555-9028-9b50419ae143",
   "metadata": {},
   "outputs": [],
   "source": [
    "import json"
   ]
  },
  {
   "cell_type": "code",
   "execution_count": 31,
   "id": "38b0bd99-f983-4786-b39d-7d0585d9bd08",
   "metadata": {},
   "outputs": [
    {
     "name": "stdout",
     "output_type": "stream",
     "text": [
      "Data has been cleaned successfully\n"
     ]
    }
   ],
   "source": [
    "# Load the data.\n",
    "def clean_data(data):\n",
    "    data[\"users\"] = [user for user in data[\"users\"] if user[\"name\"].strip()] # strip() is a string method that removes characters from both the start and end of a string (by default, it removes whitespace, including spaces, tabs, and newlines).\n",
    "\n",
    "    # Remove duplicate friends\n",
    "    for user in data[\"users\"]:\n",
    "        user['friends'] = list(set(user['friends'])) # AS SET DON'T CONTAINS DUPLICATE VALUES.\n",
    "\n",
    "    # Remove inactive users\n",
    "    data['users'] = [user for user in data['users'] if user['friends'] or user['liked_pages']]\n",
    "\n",
    "    # Remove duplicate pages\n",
    "    unique_pages = {}\n",
    "    for page in data['pages']:\n",
    "        unique_pages[page['id']] = page\n",
    "    data['pages'] = list(unique_pages.values())\n",
    "\n",
    "    return data\n",
    "    \n",
    "# Load the data\n",
    "data = json.load(open(\"data2.json\")) # load() usually means “read serialized data from a file-like object and convert it back into a Python object.”\n",
    "data = clean_data(data) \n",
    "json.dump(data, open(\"cleaned_data2.json\", \"w\"), indent=4) # used to serialize (convert) a Python object into JSON format and write it directly to a file-like object.\n",
    "print(\"Data has been cleaned successfully\")"
   ]
  },
  {
   "cell_type": "code",
   "execution_count": null,
   "id": "e95be27b-d353-4e41-adb1-08c75b33c864",
   "metadata": {},
   "outputs": [],
   "source": []
  }
 ],
 "metadata": {
  "kernelspec": {
   "display_name": "Python [conda env:base] *",
   "language": "python",
   "name": "conda-base-py"
  },
  "language_info": {
   "codemirror_mode": {
    "name": "ipython",
    "version": 3
   },
   "file_extension": ".py",
   "mimetype": "text/x-python",
   "name": "python",
   "nbconvert_exporter": "python",
   "pygments_lexer": "ipython3",
   "version": "3.12.7"
  }
 },
 "nbformat": 4,
 "nbformat_minor": 5
}
