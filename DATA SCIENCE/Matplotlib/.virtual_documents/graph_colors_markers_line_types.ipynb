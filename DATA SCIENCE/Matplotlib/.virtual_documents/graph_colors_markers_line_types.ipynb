import matplotlib.pyplot as plt
import numpy as np

# Sample data
x = np.arange(1, 6)        # [1, 2, 3, 4, 5]
y1 = np.array([10, 20, 15, 25, 30])
y2 = np.array([5, 15, 10, 20, 25])

# -------- LINE PLOTS --------
plt.figure(figsize=(12, 6))

# Solid line with circle markers and red color
plt.plot(x, y1, color='red', linestyle='-', marker='o', label='Solid Line with Circles')

# Dashed line with square markers and blue color
plt.plot(x, y2, color='blue', linestyle='--', marker='s', label='Dashed Line with Squares')

plt.xlabel("X-axis")
plt.ylabel("Y-axis")
plt.title("Different Types of Lines")
plt.legend()
plt.grid(True)
plt.show()


# -------- SCATTER PLOT --------
plt.figure(figsize=(12, 6))

# Scatter points with different colors and sizes
plt.scatter(x, y1, color='green', marker='^', s=100, label='Upward Triangles')
plt.scatter(x, y2, color='purple', marker='x', s=150, label='X markers')

plt.xlabel("X-axis")
plt.ylabel("Y-axis")
plt.title("Scatter Plot Example")
plt.legend()
plt.grid(True)
plt.show()


# -------- BAR CHART --------
plt.figure(figsize=(12, 6))

# Vertical bar chart
plt.bar(x-0.15, y1, width=0.3, color='orange', label='Y1 Bars')
plt.bar(x+0.15, y2, width=0.3, color='cyan', label='Y2 Bars')

plt.xlabel("X-axis")
plt.ylabel("Values")
plt.title("Bar Chart Example")
plt.legend()
plt.show()


# -------- HORIZONTAL BAR CHART --------
plt.figure(figsize=(12, 6))
plt.barh(x, y1, color='magenta', label='Horizontal Bars')
plt.barh(x, y2, color='yellow', left=y1, label='Stacked Part')
plt.xlabel("Values")
plt.ylabel("X-axis")
plt.title("Horizontal Bar Chart")
plt.legend()
plt.show()


# -------- MULTIPLE STYLES IN ONE GRAPH --------
plt.figure(figsize=(12, 6))
plt.plot(x, y1, 'r-o', label='Red Solid Line with Circles')   # 'r-o' shorthand
plt.plot(x, y2, 'g--s', label='Green Dashed Line with Squares') # 'g--s' shorthand

plt.scatter(x, y1+2, color='black', marker='*', s=200, label='Black Stars')
plt.xlabel("X-axis")
plt.ylabel("Y-axis")
plt.title("Multiple Styles Combined")
plt.legend()
plt.grid(True)
plt.show()




