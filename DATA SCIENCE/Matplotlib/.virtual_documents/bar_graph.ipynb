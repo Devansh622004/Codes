import matplotlib.pyplot as plt

# Data
students = ['A', 'B', 'C', 'D', 'E']
marks = [85, 78, 92, 74, 88]

# Plot
plt.bar(students, marks, color='skyblue', edgecolor='black')

# Labels and Title
plt.xlabel("Students")
plt.ylabel("Marks")
plt.title("Bar Graph: Students vs Marks")
plt.tight_layout()

# Display Graph
plt.show()



