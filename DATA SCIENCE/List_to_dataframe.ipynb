{
 "cells": [
  {
   "cell_type": "code",
   "execution_count": 4,
   "id": "e26a7289-d494-4134-830b-4ee761fe7c29",
   "metadata": {},
   "outputs": [],
   "source": [
    "import pandas as pd"
   ]
  },
  {
   "cell_type": "code",
   "execution_count": 6,
   "id": "14231fd2-01f7-42e8-aab8-59571bc566dc",
   "metadata": {},
   "outputs": [
    {
     "name": "stdout",
     "output_type": "stream",
     "text": [
      "       0   1\n",
      "0    Ram  10\n",
      "1  Meher  20\n"
     ]
    }
   ],
   "source": [
    "# Converting python List to DataFrame.\n",
    "data = [[\"Ram\", 10], [\"Meher\", 20]]\n",
    "df = pd.DataFrame(data)\n",
    "print(df)"
   ]
  },
  {
   "cell_type": "code",
   "execution_count": 9,
   "id": "10452254-d3b7-4f00-a82d-28282bc25bf8",
   "metadata": {},
   "outputs": [
    {
     "name": "stdout",
     "output_type": "stream",
     "text": [
      "  Avatar  No.\n",
      "0    Ram   10\n",
      "1  Meher   20\n"
     ]
    }
   ],
   "source": [
    "# Also\n",
    "df = pd.DataFrame(data, columns=[\"Avatar\", \"No.\"])\n",
    "print(df)"
   ]
  },
  {
   "cell_type": "code",
   "execution_count": null,
   "id": "a912429c-bd51-4aec-bd21-cc497b100977",
   "metadata": {},
   "outputs": [],
   "source": []
  }
 ],
 "metadata": {
  "kernelspec": {
   "display_name": "Python [conda env:base] *",
   "language": "python",
   "name": "conda-base-py"
  },
  "language_info": {
   "codemirror_mode": {
    "name": "ipython",
    "version": 3
   },
   "file_extension": ".py",
   "mimetype": "text/x-python",
   "name": "python",
   "nbconvert_exporter": "python",
   "pygments_lexer": "ipython3",
   "version": "3.12.7"
  }
 },
 "nbformat": 4,
 "nbformat_minor": 5
}
