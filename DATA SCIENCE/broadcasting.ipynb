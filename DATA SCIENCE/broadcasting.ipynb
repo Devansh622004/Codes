{
 "cells": [
  {
   "cell_type": "code",
   "execution_count": 4,
   "id": "bbceac4e-b481-4dbc-b706-5c77d8e6a421",
   "metadata": {},
   "outputs": [],
   "source": [
    "import numpy as np"
   ]
  },
  {
   "cell_type": "code",
   "execution_count": 8,
   "id": "247f5555-1d64-4cfb-83f8-57b75236dcaa",
   "metadata": {},
   "outputs": [
    {
     "name": "stdout",
     "output_type": "stream",
     "text": [
      "[ 70  90 110 130 150]\n"
     ]
    }
   ],
   "source": [
    "# Broadcasting with Arrays of Different Shapes\n",
    "\n",
    "arr1 = np.array([10, 20, 30, 40, 50])\n",
    "arr2 = np.array([60, 70, 80, 90, 100])\n",
    "result = arr1 + arr2\n",
    "print(result)"
   ]
  },
  {
   "cell_type": "code",
   "execution_count": 16,
   "id": "006f1500-0c42-4b5e-b743-272dddc1c2b9",
   "metadata": {},
   "outputs": [
    {
     "name": "stdout",
     "output_type": "stream",
     "text": [
      "[11 12 13 14 15]\n"
     ]
    }
   ],
   "source": [
    "# Broadcasting: Scaling Arrays Without Extra Memory\n",
    "\n",
    "arr = np.array([1, 2, 3, 4, 5])\n",
    "result = arr + 10  # Broadcasting: 10 is added to all elements\n",
    "print(result)  # Output: [11 12 13 14 15]"
   ]
  },
  {
   "cell_type": "code",
   "execution_count": 18,
   "id": "4dd3c047-a76b-49d1-a02c-b4cef7b6625b",
   "metadata": {},
   "outputs": [
    {
     "name": "stdout",
     "output_type": "stream",
     "text": [
      "[[2 4 6]\n",
      " [5 7 9]]\n"
     ]
    }
   ],
   "source": [
    "# Broadcasting a 2D Array and a 1D Array\n",
    "\n",
    "arr1 = np.array([[1, 2, 3], [4, 5, 6]])\n",
    "arr2 = np.array([1, 2, 3])\n",
    "\n",
    "result = arr1 + arr2  # Broadcasting arr2 across arr1\n",
    "print(result)"
   ]
  },
  {
   "cell_type": "code",
   "execution_count": 22,
   "id": "ca9036ad-98bf-4f20-a265-a4550734f0ab",
   "metadata": {},
   "outputs": [
    {
     "name": "stdout",
     "output_type": "stream",
     "text": [
      "[[-1.41421356 -1.41421356 -1.41421356]\n",
      " [-0.70710678 -0.70710678 -0.70710678]\n",
      " [ 0.          0.          0.        ]\n",
      " [ 0.70710678  0.70710678  0.70710678]\n",
      " [ 1.41421356  1.41421356  1.41421356]]\n"
     ]
    }
   ],
   "source": [
    "# Hands-on: Applying Broadcasting to Real-World Scenarios:-\n",
    "\n",
    "# Let’s apply broadcasting to a real-world scenario: scaling data in machine learning.\n",
    "\n",
    "# Normalizing Data Using Broadcasting:-\n",
    "# Imagine you have a dataset where each row represents a sample and each column represents a feature. \n",
    "# You can normalize the data by subtracting the mean of each column and dividing by the standard deviation.\n",
    "\n",
    "# Simulating a dataset (5 samples, 3 features)\n",
    "data = np.array([[10, 20, 30],\n",
    "                 [15, 25, 35],\n",
    "                 [20, 30, 40],\n",
    "                 [25, 35, 45],\n",
    "                 [30, 40, 50]])\n",
    "\n",
    "# Calculating mean and standard deviation for each feature (column)\n",
    "mean = data.mean(axis=0)\n",
    "std = data.std(axis=0)\n",
    "\n",
    "# Normalizing the data using broadcasting\n",
    "normalized_data = (data - mean) / std\n",
    "\n",
    "print(normalized_data)"
   ]
  },
  {
   "cell_type": "code",
   "execution_count": 20,
   "id": "87be24fb-c846-40c8-90a7-6c4018b5969e",
   "metadata": {},
   "outputs": [],
   "source": [
    "# How Broadcasting Works:-\n",
    "\n",
    "# Dimensions must be compatible: The size of the trailing dimensions of the arrays must be either the same or one of them must be 1.\n",
    "# Stretching arrays: If the shapes are compatible, NumPy stretches the smaller array to match the larger one, element-wise, without copying data."
   ]
  },
  {
   "cell_type": "code",
   "execution_count": null,
   "id": "0af0f3df-07eb-4127-8022-70dc08d656a2",
   "metadata": {},
   "outputs": [],
   "source": []
  }
 ],
 "metadata": {
  "kernelspec": {
   "display_name": "Python [conda env:base] *",
   "language": "python",
   "name": "conda-base-py"
  },
  "language_info": {
   "codemirror_mode": {
    "name": "ipython",
    "version": 3
   },
   "file_extension": ".py",
   "mimetype": "text/x-python",
   "name": "python",
   "nbconvert_exporter": "python",
   "pygments_lexer": "ipython3",
   "version": "3.12.7"
  }
 },
 "nbformat": 4,
 "nbformat_minor": 5
}
