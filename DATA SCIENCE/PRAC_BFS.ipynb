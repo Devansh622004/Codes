{
 "cells": [
  {
   "cell_type": "code",
   "execution_count": 27,
   "id": "f3dcfcd4-abd4-4f09-aa13-9c6b95a4e065",
   "metadata": {},
   "outputs": [
    {
     "name": "stdout",
     "output_type": "stream",
     "text": [
      "BFS Traversal: A "
     ]
    },
    {
     "ename": "KeyError",
     "evalue": "'A'",
     "output_type": "error",
     "traceback": [
      "\u001b[1;31m---------------------------------------------------------------------------\u001b[0m",
      "\u001b[1;31mKeyError\u001b[0m                                  Traceback (most recent call last)",
      "Cell \u001b[1;32mIn[27], line 42\u001b[0m\n\u001b[0;32m     39\u001b[0m     plt\u001b[38;5;241m.\u001b[39mshow()\n\u001b[0;32m     41\u001b[0m \u001b[38;5;66;03m# Run BFS and draw graph\u001b[39;00m\n\u001b[1;32m---> 42\u001b[0m bfs(\u001b[38;5;124m'\u001b[39m\u001b[38;5;124mA\u001b[39m\u001b[38;5;124m'\u001b[39m)\n\u001b[0;32m     43\u001b[0m draw_graph(graph)\n",
      "Cell \u001b[1;32mIn[27], line 26\u001b[0m, in \u001b[0;36mbfs\u001b[1;34m(start)\u001b[0m\n\u001b[0;32m     24\u001b[0m         \u001b[38;5;28mprint\u001b[39m(node, end\u001b[38;5;241m=\u001b[39m\u001b[38;5;124m\"\u001b[39m\u001b[38;5;124m \u001b[39m\u001b[38;5;124m\"\u001b[39m)\n\u001b[0;32m     25\u001b[0m         visited\u001b[38;5;241m.\u001b[39madd(node)\n\u001b[1;32m---> 26\u001b[0m         queue\u001b[38;5;241m.\u001b[39mextend(graph[node])\n\u001b[0;32m     27\u001b[0m \u001b[38;5;28mprint\u001b[39m()\n",
      "\u001b[1;31mKeyError\u001b[0m: 'A'"
     ]
    }
   ],
   "source": [
    "import networkx as nx\n",
    "import matplotlib.pyplot as plt\n",
    "from collections import deque\n",
    "\n",
    "# Create graph (Adjacency list)\n",
    "graph = {   \n",
    "    0: [1, 2],\n",
    "    1: [2, 3],\n",
    "    2: [3],\n",
    "    3: [4],\n",
    "    4: [0, 1, 5],\n",
    "    5: []\n",
    "}\n",
    "\n",
    "# BFS Function\n",
    "def bfs(start):\n",
    "    visited = set()\n",
    "    queue = deque([start])\n",
    "\n",
    "    print(\"BFS Traversal:\", end=\" \")\n",
    "    while queue:\n",
    "        node = queue.popleft()\n",
    "        if node not in visited:\n",
    "            print(node, end=\" \")\n",
    "            visited.add(node)\n",
    "            queue.extend(graph[node])\n",
    "    print()\n",
    "\n",
    "# Draw the graph\n",
    "def draw_graph(graph):\n",
    "    G = nx.DiGraph()   # Directed Graph\n",
    "    for node, neighbors in graph.items():\n",
    "        for n in neighbors:\n",
    "            G.add_edge(node, n)\n",
    "\n",
    "    pos = nx.spring_layout(G)  # Layout for better visualization\n",
    "    nx.draw(G, pos, with_labels=True, node_color='lightblue',\n",
    "            node_size=1500, font_size=12, arrows=True)\n",
    "    plt.show()\n",
    "\n",
    "# Run BFS and draw graph\n",
    "bfs('A')\n",
    "draw_graph(graph)"
   ]
  },
  {
   "cell_type": "code",
   "execution_count": null,
   "id": "c35fd8d4-c91c-4268-9561-121d19a23193",
   "metadata": {},
   "outputs": [],
   "source": []
  }
 ],
 "metadata": {
  "kernelspec": {
   "display_name": "Python [conda env:base] *",
   "language": "python",
   "name": "conda-base-py"
  },
  "language_info": {
   "codemirror_mode": {
    "name": "ipython",
    "version": 3
   },
   "file_extension": ".py",
   "mimetype": "text/x-python",
   "name": "python",
   "nbconvert_exporter": "python",
   "pygments_lexer": "ipython3",
   "version": "3.12.7"
  }
 },
 "nbformat": 4,
 "nbformat_minor": 5
}
