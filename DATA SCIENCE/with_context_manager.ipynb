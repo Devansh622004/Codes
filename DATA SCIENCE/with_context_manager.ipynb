{
 "cells": [
  {
   "cell_type": "code",
   "execution_count": 7,
   "id": "6a071298-c1f4-43f9-9503-ed487a5b23f6",
   "metadata": {},
   "outputs": [
    {
     "name": "stdout",
     "output_type": "stream",
     "text": [
      "RAM RAM BHAI SAAREYAA NE.\n"
     ]
    }
   ],
   "source": [
    "with open(\"MEHER.txt\", \"r\") as file:    # \"with\" ENSURES THAT THE FILE IS AUTOMATICALLY CLOSED AFTER EXECUTION.\n",
    "    content = file.read()\n",
    "    print(content)"
   ]
  },
  {
   "cell_type": "code",
   "execution_count": null,
   "id": "12f6ec6b-ad16-46c4-8b3b-3b8d3fbb68e7",
   "metadata": {},
   "outputs": [],
   "source": []
  }
 ],
 "metadata": {
  "kernelspec": {
   "display_name": "Python [conda env:base] *",
   "language": "python",
   "name": "conda-base-py"
  },
  "language_info": {
   "codemirror_mode": {
    "name": "ipython",
    "version": 3
   },
   "file_extension": ".py",
   "mimetype": "text/x-python",
   "name": "python",
   "nbconvert_exporter": "python",
   "pygments_lexer": "ipython3",
   "version": "3.12.7"
  }
 },
 "nbformat": 4,
 "nbformat_minor": 5
}
