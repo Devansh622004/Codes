{
 "cells": [
  {
   "cell_type": "code",
   "execution_count": 1,
   "id": "50ca4bac-dd18-4550-aab3-620648376bb7",
   "metadata": {},
   "outputs": [],
   "source": [
    "import numpy as np"
   ]
  },
  {
   "cell_type": "code",
   "execution_count": 3,
   "id": "7f9b15b6-f0d9-4801-93b2-af333060f388",
   "metadata": {},
   "outputs": [],
   "source": [
    "arr = np.array([[1, 2, 3], [4, 5, 6], [7, 8, 9]])"
   ]
  },
  {
   "cell_type": "code",
   "execution_count": 10,
   "id": "de1c7c2d-b1a8-4def-ac45-4cdd87a1c76f",
   "metadata": {},
   "outputs": [],
   "source": [
    "flat_arr = arr.flatten()"
   ]
  },
  {
   "cell_type": "code",
   "execution_count": 12,
   "id": "4d44952e-b386-4137-a8af-21bc9ba301c4",
   "metadata": {},
   "outputs": [
    {
     "data": {
      "text/plain": [
       "array([1, 2, 3, 4, 5, 6, 7, 8, 9])"
      ]
     },
     "execution_count": 12,
     "metadata": {},
     "output_type": "execute_result"
    }
   ],
   "source": [
    "flat_arr"
   ]
  },
  {
   "cell_type": "code",
   "execution_count": 14,
   "id": "be344e3e-2188-43a8-a3f5-afd1db2ff6ee",
   "metadata": {},
   "outputs": [
    {
     "data": {
      "text/plain": [
       "1"
      ]
     },
     "execution_count": 14,
     "metadata": {},
     "output_type": "execute_result"
    }
   ],
   "source": [
    "flat_arr[0]"
   ]
  },
  {
   "cell_type": "code",
   "execution_count": 16,
   "id": "3fa827a7-da05-41dd-9d5f-d91d7ef4a715",
   "metadata": {},
   "outputs": [
    {
     "data": {
      "text/plain": [
       "array([3, 4, 5, 6])"
      ]
     },
     "execution_count": 16,
     "metadata": {},
     "output_type": "execute_result"
    }
   ],
   "source": [
    "flat_arr[2:6]"
   ]
  },
  {
   "cell_type": "code",
   "execution_count": 18,
   "id": "5f2c740f-3c5e-44be-a657-3b2a1b79fe50",
   "metadata": {},
   "outputs": [],
   "source": [
    "b = flat_arr[4:7]  # Without .copy() --> If you assign one array to another, \n",
    "                   # NumPy doesn’t duplicate the data. Both variables point to the same memory location."
   ]
  },
  {
   "cell_type": "code",
   "execution_count": 20,
   "id": "76833aa6-7917-430e-ae28-592bc5478ac0",
   "metadata": {},
   "outputs": [
    {
     "data": {
      "text/plain": [
       "array([5, 6, 7])"
      ]
     },
     "execution_count": 20,
     "metadata": {},
     "output_type": "execute_result"
    }
   ],
   "source": [
    "b"
   ]
  },
  {
   "cell_type": "code",
   "execution_count": 22,
   "id": "9b1282ae-647e-4c35-b7d1-be2307750a65",
   "metadata": {},
   "outputs": [],
   "source": [
    "b[1] = 90"
   ]
  },
  {
   "cell_type": "code",
   "execution_count": 24,
   "id": "1263b0eb-3d11-4447-85ce-d78eef04d357",
   "metadata": {},
   "outputs": [
    {
     "data": {
      "text/plain": [
       "array([ 5, 90,  7])"
      ]
     },
     "execution_count": 24,
     "metadata": {},
     "output_type": "execute_result"
    }
   ],
   "source": [
    "b"
   ]
  },
  {
   "cell_type": "code",
   "execution_count": 30,
   "id": "520e7177-d860-45a8-8ea9-57453a147331",
   "metadata": {},
   "outputs": [],
   "source": [
    "b = flat_arr[3:7].copy()    # With .copy() --> If you use .copy(), a new independent array is created."
   ]
  },
  {
   "cell_type": "code",
   "execution_count": 32,
   "id": "4e61c3c8-6291-4822-9f9c-c6bc851eea0c",
   "metadata": {},
   "outputs": [
    {
     "data": {
      "text/plain": [
       "array([ 4,  5, 90,  7])"
      ]
     },
     "execution_count": 32,
     "metadata": {},
     "output_type": "execute_result"
    }
   ],
   "source": [
    "b"
   ]
  },
  {
   "cell_type": "code",
   "execution_count": 36,
   "id": "5aa0837a-401b-4a39-8251-6b19f90b649e",
   "metadata": {},
   "outputs": [
    {
     "name": "stdout",
     "output_type": "stream",
     "text": [
      "[0, 2, 4]\n"
     ]
    }
   ],
   "source": [
    "# FANCY INDEXING (i.e. SELECTING MULTIPLE ELEMENTS IN ARRAY)\n",
    "\n",
    "b = [0, 2, 4]\n",
    "print(b)"
   ]
  },
  {
   "cell_type": "code",
   "execution_count": 44,
   "id": "15b5397f-8475-471b-8947-0b8ec5df3384",
   "metadata": {},
   "outputs": [],
   "source": [
    "mask = flat_arr < 5              # BOOLEAN MASKING"
   ]
  },
  {
   "cell_type": "code",
   "execution_count": 46,
   "id": "9d08192f-4849-42f7-816a-acd3fb3d087f",
   "metadata": {},
   "outputs": [
    {
     "data": {
      "text/plain": [
       "array([1, 2, 3, 4])"
      ]
     },
     "execution_count": 46,
     "metadata": {},
     "output_type": "execute_result"
    }
   ],
   "source": [
    "flat_arr[mask]"
   ]
  },
  {
   "cell_type": "code",
   "execution_count": null,
   "id": "28329e3a-75ba-4bc3-8468-9e5413f82088",
   "metadata": {},
   "outputs": [],
   "source": []
  }
 ],
 "metadata": {
  "kernelspec": {
   "display_name": "Python [conda env:base] *",
   "language": "python",
   "name": "conda-base-py"
  },
  "language_info": {
   "codemirror_mode": {
    "name": "ipython",
    "version": 3
   },
   "file_extension": ".py",
   "mimetype": "text/x-python",
   "name": "python",
   "nbconvert_exporter": "python",
   "pygments_lexer": "ipython3",
   "version": "3.12.7"
  }
 },
 "nbformat": 4,
 "nbformat_minor": 5
}
