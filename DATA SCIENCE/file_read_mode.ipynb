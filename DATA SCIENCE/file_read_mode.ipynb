{
 "cells": [
  {
   "cell_type": "code",
   "execution_count": 21,
   "id": "a65ae9ba-37e8-4d32-9ff4-7329b4bafdd0",
   "metadata": {},
   "outputs": [],
   "source": [
    "f = open(\"MEHER.txt\", \"r\")"
   ]
  },
  {
   "cell_type": "code",
   "execution_count": 23,
   "id": "67b59e27-c2ba-452b-807b-80455fcc2421",
   "metadata": {},
   "outputs": [
    {
     "data": {
      "text/plain": [
       "'JAI MEHER BABA.'"
      ]
     },
     "execution_count": 23,
     "metadata": {},
     "output_type": "execute_result"
    }
   ],
   "source": [
    "f.read()"
   ]
  },
  {
   "cell_type": "code",
   "execution_count": 25,
   "id": "29709135-0583-41a1-abe7-de9b65800c11",
   "metadata": {},
   "outputs": [],
   "source": [
    "f.close()"
   ]
  }
 ],
 "metadata": {
  "kernelspec": {
   "display_name": "Python [conda env:base] *",
   "language": "python",
   "name": "conda-base-py"
  },
  "language_info": {
   "codemirror_mode": {
    "name": "ipython",
    "version": 3
   },
   "file_extension": ".py",
   "mimetype": "text/x-python",
   "name": "python",
   "nbconvert_exporter": "python",
   "pygments_lexer": "ipython3",
   "version": "3.12.7"
  }
 },
 "nbformat": 4,
 "nbformat_minor": 5
}
