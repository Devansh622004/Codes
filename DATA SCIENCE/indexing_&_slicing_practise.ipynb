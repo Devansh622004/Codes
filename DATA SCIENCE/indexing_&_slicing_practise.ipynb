{
 "cells": [
  {
   "cell_type": "code",
   "execution_count": 1,
   "id": "076c5497-4373-46fc-b6f2-e8047a9e8eb9",
   "metadata": {},
   "outputs": [],
   "source": [
    "import numpy as np"
   ]
  },
  {
   "cell_type": "code",
   "execution_count": 51,
   "id": "48510ff6-ce92-4f49-8e53-793bea1c30c4",
   "metadata": {},
   "outputs": [
    {
     "name": "stdout",
     "output_type": "stream",
     "text": [
      "[[0.80923419 0.54789306 0.5875958 ]\n",
      " [0.01336393 0.30948793 0.95015069]\n",
      " [0.35301231 0.491723   0.17970814]]\n"
     ]
    }
   ],
   "source": [
    "arr = np.random.rand(3, 3)\n",
    "print(arr)"
   ]
  },
  {
   "cell_type": "code",
   "execution_count": 53,
   "id": "c54af62f-e2c6-48fc-8e55-25eef3ed5df6",
   "metadata": {},
   "outputs": [],
   "source": [
    "arr2 = np.random.randint(0, 10, size=(3, 3))"
   ]
  },
  {
   "cell_type": "code",
   "execution_count": 55,
   "id": "484f1ceb-8202-4629-aec4-e1e1f75e0118",
   "metadata": {},
   "outputs": [
    {
     "data": {
      "text/plain": [
       "array([[5, 9, 5],\n",
       "       [3, 9, 6],\n",
       "       [7, 4, 5]])"
      ]
     },
     "execution_count": 55,
     "metadata": {},
     "output_type": "execute_result"
    }
   ],
   "source": [
    "arr2"
   ]
  },
  {
   "cell_type": "code",
   "execution_count": 67,
   "id": "8a88bd13-d716-42da-a8d5-31f00757d807",
   "metadata": {},
   "outputs": [
    {
     "data": {
      "text/plain": [
       "(3, 3)"
      ]
     },
     "execution_count": 67,
     "metadata": {},
     "output_type": "execute_result"
    }
   ],
   "source": [
    "arr.shape\n",
    "arr2.shape"
   ]
  },
  {
   "cell_type": "code",
   "execution_count": 77,
   "id": "ef12190f-bbb1-461e-a7f3-64f061672218",
   "metadata": {},
   "outputs": [],
   "source": [
    "arr3 = np.array([1.1, 2.2, 3.3])\n",
    "arr4 = arr3.astype(int)"
   ]
  },
  {
   "cell_type": "code",
   "execution_count": 79,
   "id": "0437fba8-38bc-4dde-974e-264222a420e0",
   "metadata": {},
   "outputs": [
    {
     "data": {
      "text/plain": [
       "array([1, 2, 3])"
      ]
     },
     "execution_count": 79,
     "metadata": {},
     "output_type": "execute_result"
    }
   ],
   "source": [
    "arr4"
   ]
  },
  {
   "cell_type": "code",
   "execution_count": 92,
   "id": "97e0ca29-d49e-4a5f-bfc9-764bc64387fe",
   "metadata": {},
   "outputs": [
    {
     "name": "stdout",
     "output_type": "stream",
     "text": [
      "[2 4 6]\n"
     ]
    }
   ],
   "source": [
    "arr5 = np.array([1, 2, 3, 4, 5, 6])\n",
    "fancy_arr5 = arr5[arr5 % 2 == 0]\n",
    "print(fancy_arr5)   "
   ]
  },
  {
   "cell_type": "code",
   "execution_count": 94,
   "id": "938db856-5521-4638-b681-c3347fb90483",
   "metadata": {},
   "outputs": [
    {
     "data": {
      "text/plain": [
       "array([2, 4, 6])"
      ]
     },
     "execution_count": 94,
     "metadata": {},
     "output_type": "execute_result"
    }
   ],
   "source": [
    "fancy_arr5"
   ]
  },
  {
   "cell_type": "code",
   "execution_count": 110,
   "id": "3b61b14c-498b-41b9-88dc-d7e8180d2fe1",
   "metadata": {},
   "outputs": [
    {
     "name": "stdout",
     "output_type": "stream",
     "text": [
      "[[1 2 3]\n",
      " [4 5 6]\n",
      " [7 8 9]]\n"
     ]
    }
   ],
   "source": [
    "# create arr6 (must have 9 elements if you want reshape(3,3))\n",
    "arr6 = np.array([1, 2, 3, 4, 5, 6, 7, 8, 9])\n",
    "\n",
    "# now reshape works\n",
    "arr6_new = arr6.reshape(3, 3)\n",
    "print(arr6_new)\n"
   ]
  },
  {
   "cell_type": "code",
   "execution_count": 112,
   "id": "f49ba88f-d3e4-4c4b-867c-a2f0d49d7eb7",
   "metadata": {},
   "outputs": [
    {
     "name": "stdout",
     "output_type": "stream",
     "text": [
      "Mask: [False  True  True False False  True]\n",
      "Numbers > 50: [ 55  60 100]\n"
     ]
    }
   ],
   "source": [
    "# BOOLEAN MASKING\n",
    "\n",
    "arr7 = np.array([10, 55, 60, 30, 45, 100])\n",
    "\n",
    "# Boolean mask for numbers > 50\n",
    "mask = arr7 > 50\n",
    "print(\"Mask:\", mask)      # [False False False  True  True False  True]\n",
    "\n",
    "# Apply mask to filter\n",
    "result = arr7[mask]\n",
    "print(\"Numbers > 50:\", result)"
   ]
  },
  {
   "cell_type": "code",
   "execution_count": null,
   "id": "66391f9c-cbf3-4e29-9f1f-6614833425ae",
   "metadata": {},
   "outputs": [],
   "source": []
  }
 ],
 "metadata": {
  "kernelspec": {
   "display_name": "Python [conda env:base] *",
   "language": "python",
   "name": "conda-base-py"
  },
  "language_info": {
   "codemirror_mode": {
    "name": "ipython",
    "version": 3
   },
   "file_extension": ".py",
   "mimetype": "text/x-python",
   "name": "python",
   "nbconvert_exporter": "python",
   "pygments_lexer": "ipython3",
   "version": "3.12.7"
  }
 },
 "nbformat": 4,
 "nbformat_minor": 5
}
