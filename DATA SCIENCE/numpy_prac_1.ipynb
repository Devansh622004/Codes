{
 "cells": [
  {
   "cell_type": "code",
   "execution_count": 1,
   "id": "f5477740-97c1-42a4-ab77-d36431c74406",
   "metadata": {},
   "outputs": [
    {
     "name": "stdout",
     "output_type": "stream",
     "text": [
      "Array: [ 10  11  12  13  14  15  16  17  18  19  20  21  22  23  24  25  26  27\n",
      "  28  29  30  31  32  33  34  35  36  37  38  39  40  41  42  43  44  45\n",
      "  46  47  48  49  50  51  52  53  54  55  56  57  58  59  60  61  62  63\n",
      "  64  65  66  67  68  69  70  71  72  73  74  75  76  77  78  79  80  81\n",
      "  82  83  84  85  86  87  88  89  90  91  92  93  94  95  96  97  98  99\n",
      " 100]\n",
      "Shape: (91,)\n"
     ]
    }
   ],
   "source": [
    "# Exercises for Practice\n",
    "# Create a NumPy array with values from 10 to 100 and print its shape.\n",
    "# Compare the time taken to multiply two Python lists vs. two NumPy arrays.\n",
    "# Find the memory size of a NumPy array with 1 million elements.\n",
    "\n",
    "\n",
    "# NumPy’s optimized C-based backend\n",
    "\n",
    "import numpy as np\n",
    "import time\n",
    "\n",
    "arr = np.array(range(10, 101))\n",
    "\n",
    "# Print array\n",
    "print(\"Array:\", arr)\n",
    "\n",
    "# Print shape\n",
    "print(\"Shape:\", arr.shape)  # \".shape\" attribute tells you the dimensions of the array\n",
    "                            # — basically how many elements are in each axis (rows, columns, etc.).\n"
   ]
  },
  {
   "cell_type": "code",
   "execution_count": 3,
   "id": "ae872161-454d-41ad-95ae-77b555fbd199",
   "metadata": {},
   "outputs": [
    {
     "name": "stdout",
     "output_type": "stream",
     "text": [
      "l1 * l2 = [6, 14, 24, 36, 50]\n",
      "0.0010075569152832031\n"
     ]
    }
   ],
   "source": [
    "l1 = [1, 2, 3, 4, 5]\n",
    "l2 = [6, 7, 8, 9, 10]\n",
    "\n",
    "start = time.time()\n",
    "l3 = [l1[i] * l2[i] for i in range(len(l1))]\n",
    "print(\"l1 * l2 =\", l3)\n",
    "end = time.time()\n",
    "\n",
    "print(end - start)"
   ]
  },
  {
   "cell_type": "code",
   "execution_count": 5,
   "id": "704ad19f-9533-4eee-b998-e900ac5c54aa",
   "metadata": {},
   "outputs": [
    {
     "name": "stdout",
     "output_type": "stream",
     "text": [
      "[ 0  1  4  9 16 25]\n",
      "0.000985860824584961\n"
     ]
    }
   ],
   "source": [
    "arr1 = np.array(range(6))\n",
    "arr2 = np.array(range(6))\n",
    "\n",
    "start = time.time()\n",
    "l4 = arr1 * arr2\n",
    "print(l4)\n",
    "end = time.time()\n",
    "\n",
    "print(end - start)"
   ]
  },
  {
   "cell_type": "code",
   "execution_count": null,
   "id": "e75bf04f-13e9-4c7d-9bf9-bc57958500d6",
   "metadata": {},
   "outputs": [],
   "source": [
    "size = 1_000_000\n",
    "arr = np.array(range(size))\n",
    "\n",
    "print(\"Array size in bytes:\", arr.nbytes)\n"
   ]
  }
 ],
 "metadata": {
  "kernelspec": {
   "display_name": "Python [conda env:base] *",
   "language": "python",
   "name": "conda-base-py"
  },
  "language_info": {
   "codemirror_mode": {
    "name": "ipython",
    "version": 3
   },
   "file_extension": ".py",
   "mimetype": "text/x-python",
   "name": "python",
   "nbconvert_exporter": "python",
   "pygments_lexer": "ipython3",
   "version": "3.12.7"
  }
 },
 "nbformat": 4,
 "nbformat_minor": 5
}
