{
 "cells": [
  {
   "cell_type": "code",
   "execution_count": 5,
   "id": "0a6689de-5f40-43df-a896-1ec83191524c",
   "metadata": {},
   "outputs": [],
   "source": [
    "import pandas as pd"
   ]
  },
  {
   "cell_type": "code",
   "execution_count": 7,
   "id": "c56fc3a5-3ccb-4b0d-8c37-350fa6606459",
   "metadata": {},
   "outputs": [],
   "source": [
    "# SERIES\n",
    "s = pd.Series([20, 15, 30, 45, 90])"
   ]
  },
  {
   "cell_type": "code",
   "execution_count": 9,
   "id": "cdc1cc43-6bf9-4599-bf9a-a72d04b360c0",
   "metadata": {},
   "outputs": [
    {
     "data": {
      "text/plain": [
       "pandas.core.series.Series"
      ]
     },
     "execution_count": 9,
     "metadata": {},
     "output_type": "execute_result"
    }
   ],
   "source": [
    "type(s)"
   ]
  },
  {
   "cell_type": "code",
   "execution_count": 11,
   "id": "cc143a6f-6aa5-4cbc-9a07-31abf0887323",
   "metadata": {},
   "outputs": [
    {
     "name": "stdout",
     "output_type": "stream",
     "text": [
      "0    20\n",
      "1    15\n",
      "2    30\n",
      "3    45\n",
      "4    90\n",
      "dtype: int64\n"
     ]
    }
   ],
   "source": [
    "print(s)"
   ]
  },
  {
   "cell_type": "code",
   "execution_count": 13,
   "id": "36cb1a19-8e67-401c-aa33-2bd64c1627d5",
   "metadata": {},
   "outputs": [],
   "source": [
    "s = pd.Series([20, 15, 30, 45, 90], index=[\"DEV\", \"RUDRA\", \"VASU\", \"SNEHA\", \"ISHA\"])  # WE CAN ALSO GIVE INDEXES."
   ]
  },
  {
   "cell_type": "code",
   "execution_count": 15,
   "id": "9f62b73f-b2ac-4bb2-b34f-7b6ca9a3694a",
   "metadata": {},
   "outputs": [
    {
     "data": {
      "text/plain": [
       "DEV      20\n",
       "RUDRA    15\n",
       "VASU     30\n",
       "SNEHA    45\n",
       "ISHA     90\n",
       "dtype: int64"
      ]
     },
     "execution_count": 15,
     "metadata": {},
     "output_type": "execute_result"
    }
   ],
   "source": [
    "s"
   ]
  },
  {
   "cell_type": "code",
   "execution_count": 17,
   "id": "4237f9a8-545f-479c-a121-086f1ae13fff",
   "metadata": {},
   "outputs": [
    {
     "data": {
      "text/plain": [
       "20"
      ]
     },
     "execution_count": 17,
     "metadata": {},
     "output_type": "execute_result"
    }
   ],
   "source": [
    "s[\"DEV\"]"
   ]
  },
  {
   "cell_type": "code",
   "execution_count": 19,
   "id": "1650ffcd-5dbd-4586-964a-eaf9caab01d0",
   "metadata": {},
   "outputs": [],
   "source": [
    "# DATAFRAMES\n",
    "data = {\n",
    "    \"Name\": [\"Alice\", \"bob\", \"charlie\"],\n",
    "    \"Age\":  [20, 25, 40],\n",
    "    \"State\": [\"SRE\", \"UP\", \"UK\"]\n",
    "}"
   ]
  },
  {
   "cell_type": "code",
   "execution_count": 21,
   "id": "f137f14a-1f2d-485e-831e-136b81c00aa6",
   "metadata": {},
   "outputs": [],
   "source": [
    "df = pd.DataFrame(data)"
   ]
  },
  {
   "cell_type": "code",
   "execution_count": 23,
   "id": "7771093f-cccc-4deb-8b3b-9c3402875d94",
   "metadata": {},
   "outputs": [
    {
     "data": {
      "text/html": [
       "<div>\n",
       "<style scoped>\n",
       "    .dataframe tbody tr th:only-of-type {\n",
       "        vertical-align: middle;\n",
       "    }\n",
       "\n",
       "    .dataframe tbody tr th {\n",
       "        vertical-align: top;\n",
       "    }\n",
       "\n",
       "    .dataframe thead th {\n",
       "        text-align: right;\n",
       "    }\n",
       "</style>\n",
       "<table border=\"1\" class=\"dataframe\">\n",
       "  <thead>\n",
       "    <tr style=\"text-align: right;\">\n",
       "      <th></th>\n",
       "      <th>Name</th>\n",
       "      <th>Age</th>\n",
       "      <th>State</th>\n",
       "    </tr>\n",
       "  </thead>\n",
       "  <tbody>\n",
       "    <tr>\n",
       "      <th>0</th>\n",
       "      <td>Alice</td>\n",
       "      <td>20</td>\n",
       "      <td>SRE</td>\n",
       "    </tr>\n",
       "    <tr>\n",
       "      <th>1</th>\n",
       "      <td>bob</td>\n",
       "      <td>25</td>\n",
       "      <td>UP</td>\n",
       "    </tr>\n",
       "    <tr>\n",
       "      <th>2</th>\n",
       "      <td>charlie</td>\n",
       "      <td>40</td>\n",
       "      <td>UK</td>\n",
       "    </tr>\n",
       "  </tbody>\n",
       "</table>\n",
       "</div>"
      ],
      "text/plain": [
       "      Name  Age State\n",
       "0    Alice   20   SRE\n",
       "1      bob   25    UP\n",
       "2  charlie   40    UK"
      ]
     },
     "execution_count": 23,
     "metadata": {},
     "output_type": "execute_result"
    }
   ],
   "source": [
    "df"
   ]
  },
  {
   "cell_type": "code",
   "execution_count": 25,
   "id": "4c40308a-5a97-45d3-b6d4-d8fe0067915b",
   "metadata": {},
   "outputs": [
    {
     "data": {
      "text/plain": [
       "RangeIndex(start=0, stop=3, step=1)"
      ]
     },
     "execution_count": 25,
     "metadata": {},
     "output_type": "execute_result"
    }
   ],
   "source": [
    "df.index"
   ]
  },
  {
   "cell_type": "code",
   "execution_count": 27,
   "id": "05519325-a697-45f1-a4dc-f85df28bc44c",
   "metadata": {},
   "outputs": [
    {
     "data": {
      "text/plain": [
       "Index(['Name', 'Age', 'State'], dtype='object')"
      ]
     },
     "execution_count": 27,
     "metadata": {},
     "output_type": "execute_result"
    }
   ],
   "source": [
    "df.columns"
   ]
  },
  {
   "cell_type": "code",
   "execution_count": 29,
   "id": "3c77e168-c176-42a6-b7f0-cd2f0c5b50ff",
   "metadata": {},
   "outputs": [],
   "source": [
    "data = [[\"Meher\", 7], [\"Devu\", 6], [\"Krishna\", 27]]"
   ]
  },
  {
   "cell_type": "code",
   "execution_count": 31,
   "id": "5caeddc3-4676-48e0-b698-db981d4ce173",
   "metadata": {},
   "outputs": [
    {
     "data": {
      "text/plain": [
       "[['Meher', 7], ['Devu', 6], ['Krishna', 27]]"
      ]
     },
     "execution_count": 31,
     "metadata": {},
     "output_type": "execute_result"
    }
   ],
   "source": [
    "data"
   ]
  },
  {
   "cell_type": "code",
   "execution_count": 33,
   "id": "b4733b1d-f89d-4c44-ab5c-5615f183913e",
   "metadata": {},
   "outputs": [
    {
     "data": {
      "text/html": [
       "<div>\n",
       "<style scoped>\n",
       "    .dataframe tbody tr th:only-of-type {\n",
       "        vertical-align: middle;\n",
       "    }\n",
       "\n",
       "    .dataframe tbody tr th {\n",
       "        vertical-align: top;\n",
       "    }\n",
       "\n",
       "    .dataframe thead th {\n",
       "        text-align: right;\n",
       "    }\n",
       "</style>\n",
       "<table border=\"1\" class=\"dataframe\">\n",
       "  <thead>\n",
       "    <tr style=\"text-align: right;\">\n",
       "      <th></th>\n",
       "      <th>Name</th>\n",
       "      <th>Fav. No.</th>\n",
       "    </tr>\n",
       "  </thead>\n",
       "  <tbody>\n",
       "    <tr>\n",
       "      <th>0</th>\n",
       "      <td>Meher</td>\n",
       "      <td>7</td>\n",
       "    </tr>\n",
       "    <tr>\n",
       "      <th>1</th>\n",
       "      <td>Devu</td>\n",
       "      <td>6</td>\n",
       "    </tr>\n",
       "    <tr>\n",
       "      <th>2</th>\n",
       "      <td>Krishna</td>\n",
       "      <td>27</td>\n",
       "    </tr>\n",
       "  </tbody>\n",
       "</table>\n",
       "</div>"
      ],
      "text/plain": [
       "      Name  Fav. No.\n",
       "0    Meher         7\n",
       "1     Devu         6\n",
       "2  Krishna        27"
      ]
     },
     "execution_count": 33,
     "metadata": {},
     "output_type": "execute_result"
    }
   ],
   "source": [
    "pd.DataFrame(data, columns=[\"Name\", \"Fav. No.\"])"
   ]
  },
  {
   "cell_type": "code",
   "execution_count": null,
   "id": "f11ef5e0-acce-4daa-b2bd-24579f3ccf50",
   "metadata": {},
   "outputs": [],
   "source": []
  }
 ],
 "metadata": {
  "kernelspec": {
   "display_name": "Python [conda env:base] *",
   "language": "python",
   "name": "conda-base-py"
  },
  "language_info": {
   "codemirror_mode": {
    "name": "ipython",
    "version": 3
   },
   "file_extension": ".py",
   "mimetype": "text/x-python",
   "name": "python",
   "nbconvert_exporter": "python",
   "pygments_lexer": "ipython3",
   "version": "3.12.7"
  }
 },
 "nbformat": 4,
 "nbformat_minor": 5
}
