{
 "cells": [
  {
   "cell_type": "code",
   "execution_count": 19,
   "id": "d1e44a8a-e045-49f7-91f3-de2d54e80679",
   "metadata": {},
   "outputs": [
    {
     "name": "stdout",
     "output_type": "stream",
     "text": [
      "Original Wide DataFrame:\n",
      "      Name  Math  Science  English\n",
      "0    Alice    85       90       88\n",
      "1      Bob    78       82       85\n",
      "2  Charlie    92       89       94 \n",
      "\n",
      "Melted Long DataFrame:\n",
      "      Name  Subject  Score\n",
      "0    Alice     Math     85\n",
      "1      Bob     Math     78\n",
      "2  Charlie     Math     92\n",
      "3    Alice  Science     90\n",
      "4      Bob  Science     82\n",
      "5  Charlie  Science     89\n",
      "6    Alice  English     88\n",
      "7      Bob  English     85\n",
      "8  Charlie  English     94 \n",
      "\n",
      "Pivoted Wide DataFrame:\n",
      "Subject  English  Math  Science\n",
      "Name                           \n",
      "Alice         88    85       90\n",
      "Bob           85    78       82\n",
      "Charlie       94    92       89\n"
     ]
    }
   ],
   "source": [
    "import pandas as pd\n",
    "\n",
    "# Sample DataFrame (Wide format)\n",
    "data = {\n",
    "    'Name': ['Alice', 'Bob', 'Charlie'],\n",
    "    'Math': [85, 78, 92],\n",
    "    'Science': [90, 82, 89],\n",
    "    'English': [88, 85, 94]\n",
    "}\n",
    "\n",
    "df = pd.DataFrame(data)\n",
    "\n",
    "print(\"Original Wide DataFrame:\")\n",
    "print(df, \"\\n\")\n",
    "\n",
    "# Why Use melt()?\n",
    "# Data normalization: Helps in transforming data for statistical modeling and data visualization.\n",
    "# Pivot tables: Many times, plotting functions or statistical models work better with long-format data.\n",
    "\n",
    "# Convert Wide → Long using melt\n",
    "df_long = df.melt(\n",
    "    id_vars=[\"Name\"],\n",
    "    value_vars=[\"Math\", \"Science\", \"English\"],\n",
    "    var_name=\"Subject\",\n",
    "    value_name=\"Score\"\n",
    ")\n",
    "\n",
    "print(\"Melted Long DataFrame:\")\n",
    "print(df_long, \"\\n\")\n",
    "\n",
    "# Why use pivot()?\n",
    "# Better data structure: It makes data easier to analyze when you have categories that you want to split into multiple columns.\n",
    "# Easier visualization: Often, you want to represent data in a format where categories are split across columns (for example, when creating pivot tables for reporting).\n",
    "# Aggregating data: You can perform aggregations (like sum, mean, etc.) to group values before pivoting.\n",
    "\n",
    "# Convert Long → Wide using pivot\n",
    "df_pivot = df_long.pivot(index=\"Name\", columns=\"Subject\", values=\"Score\")\n",
    "\n",
    "print(\"Pivoted Wide DataFrame:\")\n",
    "print(df_pivot)\n"
   ]
  },
  {
   "cell_type": "code",
   "execution_count": null,
   "id": "738e56ff-1f8a-400e-bdc2-a0a602077173",
   "metadata": {},
   "outputs": [],
   "source": []
  }
 ],
 "metadata": {
  "kernelspec": {
   "display_name": "Python [conda env:base] *",
   "language": "python",
   "name": "conda-base-py"
  },
  "language_info": {
   "codemirror_mode": {
    "name": "ipython",
    "version": 3
   },
   "file_extension": ".py",
   "mimetype": "text/x-python",
   "name": "python",
   "nbconvert_exporter": "python",
   "pygments_lexer": "ipython3",
   "version": "3.12.7"
  }
 },
 "nbformat": 4,
 "nbformat_minor": 5
}
