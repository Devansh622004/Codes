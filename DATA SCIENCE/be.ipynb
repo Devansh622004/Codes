{
 "cells": [
  {
   "cell_type": "code",
   "execution_count": 1,
   "id": "29981fae-0e0a-4d3c-9db1-0fb2a071bfbf",
   "metadata": {},
   "outputs": [
    {
     "name": "stdin",
     "output_type": "stream",
     "text": [
      "Enter the Start Node:  A\n",
      "Enter the Goal Node:  G\n"
     ]
    },
    {
     "name": "stdout",
     "output_type": "stream",
     "text": [
      "Visiting: A with Heuristic: 6\n",
      "Visiting: B with Heuristic: 4\n",
      "Visiting: E with Heuristic: 2\n",
      "Visiting: G with Heuristic: 0\n",
      "Goal reached!\n",
      "Path: A -> B -> E -> G\n"
     ]
    }
   ],
   "source": [
    "import heapq  \n",
    "\n",
    "def best_first_search(graph, heuristic, start, goal):\n",
    "    # Priority queue -> (heuristic value, node, path)\n",
    "    priority_queue = []\n",
    "    heapq.heappush(priority_queue, (heuristic[start], start, [start]))\n",
    "\n",
    "    visited = set()\n",
    "    came_from = {start: None}\n",
    "\n",
    "    while priority_queue:\n",
    "        current_h, current_node, path = heapq.heappop(priority_queue)\n",
    "        print(f\"Visiting: {current_node} with Heuristic: {current_h}\")\n",
    "\n",
    "        if current_node == goal:\n",
    "            print(\"Goal reached!\")\n",
    "            print(\"Path:\", ' -> '.join(path))\n",
    "            return path\n",
    "\n",
    "        visited.add(current_node)\n",
    "\n",
    "        for neighbor in graph.get(current_node, []):\n",
    "            if neighbor not in visited:\n",
    "                came_from[neighbor] = current_node\n",
    "                heapq.heappush(priority_queue, (heuristic[neighbor], neighbor, path + [neighbor]))\n",
    "\n",
    "    print(\"No path found from\", start, \"to\", goal)\n",
    "    return None\n",
    "\n",
    "\n",
    "# Graph definition (Adjacency List)\n",
    "graph = {\n",
    "    'A': ['B', 'C'],\n",
    "    'B': ['D', 'E'],\n",
    "    'C': ['F'],\n",
    "    'D': [],\n",
    "    'E': ['G'],\n",
    "    'F': [],\n",
    "    'G': []\n",
    "}\n",
    "\n",
    "# Heuristic values (towards goal 'G')\n",
    "heuristic = {\n",
    "    'A': 6,\n",
    "    'B': 4,\n",
    "    'C': 5,\n",
    "    'D': 7,\n",
    "    'E': 2,\n",
    "    'F': 8,\n",
    "    'G': 0\n",
    "}\n",
    "\n",
    "# User input\n",
    "start_node = input(\"Enter the Start Node: \").strip().upper()\n",
    "goal_node = input(\"Enter the Goal Node: \").strip().upper()\n",
    "\n",
    "if start_node not in graph or goal_node not in graph:\n",
    "    print(\"Invalid Start or Goal Node.\")\n",
    "else:\n",
    "    best_first_search(graph, heuristic, start_node, goal_node)\n"
   ]
  },
  {
   "cell_type": "code",
   "execution_count": null,
   "id": "2a51c9e6-6bad-4050-bcb0-ca465a28557c",
   "metadata": {},
   "outputs": [],
   "source": []
  }
 ],
 "metadata": {
  "kernelspec": {
   "display_name": "Python [conda env:base] *",
   "language": "python",
   "name": "conda-base-py"
  },
  "language_info": {
   "codemirror_mode": {
    "name": "ipython",
    "version": 3
   },
   "file_extension": ".py",
   "mimetype": "text/x-python",
   "name": "python",
   "nbconvert_exporter": "python",
   "pygments_lexer": "ipython3",
   "version": "3.12.7"
  }
 },
 "nbformat": 4,
 "nbformat_minor": 5
}
