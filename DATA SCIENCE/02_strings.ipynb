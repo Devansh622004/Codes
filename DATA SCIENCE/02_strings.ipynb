{
 "cells": [
  {
   "cell_type": "code",
   "execution_count": 1,
   "id": "af69edf8-1d1b-4d8c-8263-a4691d02af0e",
   "metadata": {},
   "outputs": [],
   "source": [
    "name = \"MEHER\""
   ]
  },
  {
   "cell_type": "code",
   "execution_count": 7,
   "id": "43d64ab6-001c-484b-a658-f5dad2ea4a73",
   "metadata": {
    "editable": true,
    "slideshow": {
     "slide_type": ""
    },
    "tags": []
   },
   "outputs": [
    {
     "data": {
      "text/plain": [
       "False"
      ]
     },
     "execution_count": 7,
     "metadata": {},
     "output_type": "execute_result"
    }
   ],
   "source": [
    "name.endswith(\"er\")"
   ]
  },
  {
   "cell_type": "code",
   "execution_count": 9,
   "id": "e2ef0033-b463-4a53-b2d6-c8502bc14c13",
   "metadata": {},
   "outputs": [
    {
     "data": {
      "text/plain": [
       "True"
      ]
     },
     "execution_count": 9,
     "metadata": {},
     "output_type": "execute_result"
    }
   ],
   "source": [
    "name.endswith(\"ER\")"
   ]
  },
  {
   "cell_type": "code",
   "execution_count": 11,
   "id": "1ec0c639-7895-46c7-94e9-a921e33b1ab5",
   "metadata": {},
   "outputs": [
    {
     "data": {
      "text/plain": [
       "0"
      ]
     },
     "execution_count": 11,
     "metadata": {},
     "output_type": "execute_result"
    }
   ],
   "source": [
    "name.count(\"e\")"
   ]
  },
  {
   "cell_type": "code",
   "execution_count": 13,
   "id": "6460be4a-55f8-4d38-90c9-85646fb0fd01",
   "metadata": {},
   "outputs": [
    {
     "data": {
      "text/plain": [
       "2"
      ]
     },
     "execution_count": 13,
     "metadata": {},
     "output_type": "execute_result"
    }
   ],
   "source": [
    "name.count(\"E\")"
   ]
  },
  {
   "cell_type": "code",
   "execution_count": null,
   "id": "0c3bf609-acf8-4e29-943d-81718d1b49a1",
   "metadata": {},
   "outputs": [],
   "source": []
  }
 ],
 "metadata": {
  "kernelspec": {
   "display_name": "Python [conda env:base] *",
   "language": "python",
   "name": "conda-base-py"
  },
  "language_info": {
   "codemirror_mode": {
    "name": "ipython",
    "version": 3
   },
   "file_extension": ".py",
   "mimetype": "text/x-python",
   "name": "python",
   "nbconvert_exporter": "python",
   "pygments_lexer": "ipython3",
   "version": "3.12.7"
  }
 },
 "nbformat": 4,
 "nbformat_minor": 5
}
