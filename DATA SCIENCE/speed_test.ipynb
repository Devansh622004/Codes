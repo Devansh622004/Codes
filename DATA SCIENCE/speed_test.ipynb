{
 "cells": [
  {
   "cell_type": "code",
   "execution_count": 8,
   "id": "84e28986-e06c-4023-9685-16009685fc4d",
   "metadata": {},
   "outputs": [
    {
     "name": "stdout",
     "output_type": "stream",
     "text": [
      "[0, 2, 4, 6, 8, 10, 12, 14, 16, 18]\n",
      "0.19203877449035645\n"
     ]
    }
   ],
   "source": [
    "# USING PYTHON LISTS.\n",
    "\n",
    "import numpy as np\n",
    "import time\n",
    "\n",
    "size = 1_000_000   # '_' FOR READABILITY\n",
    "\n",
    "l1 = list(range(size))\n",
    "l2 = list(range(size))\n",
    "\n",
    "start = time.time()\n",
    "add = [x+y for x,y in zip(l1, l2)]\n",
    "end = time.time()\n",
    "print(add[0:10])\n",
    "\n",
    "print(end - start)"
   ]
  },
  {
   "cell_type": "code",
   "execution_count": 9,
   "id": "36842b6d-4a35-49b4-9a07-47eb9369a8c5",
   "metadata": {},
   "outputs": [
    {
     "name": "stdout",
     "output_type": "stream",
     "text": [
      "[ 0  2  4  6  8 10 12 14 16 18]\n",
      "0.022240877151489258\n"
     ]
    }
   ],
   "source": [
    "# USING NUMPY ARRAYS.\n",
    "\n",
    "import numpy as np\n",
    "import time\n",
    "\n",
    "size = 1_000_000   # '_' FOR READABILITY\n",
    "\n",
    "l1 = np.array(list(range(size)))\n",
    "l2 = np.array(list(range(size)))\n",
    "\n",
    "start = time.time()\n",
    "add = l1 + l2\n",
    "end = time.time()\n",
    "print(add[0:10])\n",
    "\n",
    "print(end - start)"
   ]
  },
  {
   "cell_type": "code",
   "execution_count": 10,
   "id": "da7a8723-6982-4a03-a877-4e12db3df3db",
   "metadata": {},
   "outputs": [],
   "source": [
    "l1 = [1, 2, 3]"
   ]
  },
  {
   "cell_type": "code",
   "execution_count": 11,
   "id": "10fa6b24-bd99-415b-9815-7805834ca57c",
   "metadata": {},
   "outputs": [],
   "source": [
    "l2 = [4, 5, 6]"
   ]
  },
  {
   "cell_type": "code",
   "execution_count": 12,
   "id": "57241257-a913-455f-981a-5849b2f614f0",
   "metadata": {},
   "outputs": [
    {
     "name": "stdout",
     "output_type": "stream",
     "text": [
      "[(1, 4), (2, 5), (3, 6)]\n"
     ]
    }
   ],
   "source": [
    "list1 = list(zip(l1, l2))\n",
    "print(list1)"
   ]
  },
  {
   "cell_type": "code",
   "execution_count": 18,
   "id": "3c9b2361-c215-4386-a3ba-ac13a5836281",
   "metadata": {},
   "outputs": [
    {
     "data": {
      "text/plain": [
       "array([[1, 2, 3],\n",
       "       [4, 5, 6]])"
      ]
     },
     "execution_count": 18,
     "metadata": {},
     "output_type": "execute_result"
    }
   ],
   "source": [
    "np.array([[1, 2, 3], [4, 5, 6]])          # LIST OF LISTS 0R MULTIDIMENSION ARRAY."
   ]
  },
  {
   "cell_type": "code",
   "execution_count": 26,
   "id": "a00426e2-a7b3-494f-962a-8e77da981b72",
   "metadata": {},
   "outputs": [
    {
     "name": "stdout",
     "output_type": "stream",
     "text": [
      "Python list size: 8056000 bytes\n",
      "NumPy array size: 4000 bytes\n",
      "0.0\n"
     ]
    }
   ],
   "source": [
    "# Memory Efficiency – NumPy vs. Lists\n",
    "\n",
    "import sys\n",
    "import time\n",
    "\n",
    "list_data = list(range(1000))\n",
    "numpy_data = np.array(list_data)\n",
    "\n",
    "start_time = time.time()\n",
    "print(\"Python list size:\", sys.getsizeof(list_data) * len(list_data), \"bytes\")\n",
    "print(\"NumPy array size:\", numpy_data.nbytes, \"bytes\")\n",
    "end_time = time.time()\n",
    "\n",
    "print(end_time - start_time)"
   ]
  },
  {
   "cell_type": "code",
   "execution_count": 24,
   "id": "6da684cc-376b-43d2-ada0-66429fe92c6b",
   "metadata": {},
   "outputs": [],
   "source": [
    "# Vectorization – No More Loops!\n",
    "\n",
    "import numpy as np\n",
    "\n",
    "# Python list\n",
    "list1 = [1, 2, 3, 4, 5]\n",
    "list_squares = [x ** 2 for x in list1]   # [1, 4, 9, 16, 25]\n",
    "\n",
    "# NumPy array\n",
    "arr1 = np.array([1, 2, 3, 4, 5])\n",
    "numpy_squares = arr1 ** 2                # array([ 1,  4,  9, 16, 25])"
   ]
  },
  {
   "cell_type": "code",
   "execution_count": null,
   "id": "4eee5d9f-48de-4e74-9ffd-fa15f2895ce9",
   "metadata": {},
   "outputs": [],
   "source": []
  }
 ],
 "metadata": {
  "kernelspec": {
   "display_name": "Python [conda env:base] *",
   "language": "python",
   "name": "conda-base-py"
  },
  "language_info": {
   "codemirror_mode": {
    "name": "ipython",
    "version": 3
   },
   "file_extension": ".py",
   "mimetype": "text/x-python",
   "name": "python",
   "nbconvert_exporter": "python",
   "pygments_lexer": "ipython3",
   "version": "3.12.7"
  }
 },
 "nbformat": 4,
 "nbformat_minor": 5
}
