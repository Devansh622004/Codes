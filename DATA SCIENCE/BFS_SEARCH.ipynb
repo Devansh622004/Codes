{
 "cells": [
  {
   "cell_type": "code",
   "execution_count": 38,
   "id": "d3a7dd3a-698e-4c11-9c41-6f6cdfd27b1c",
   "metadata": {},
   "outputs": [],
   "source": [
    "from collections import deque       # deque → special queue used in BFS (fast for adding/removing items).\n",
    "from typing import Dict, List, Set  # typing → only for type hints (helps PyCharm, no effect on output).\n",
    "import networkx as nx               # networkx → to create & handle graphs.\n",
    "import matplotlib.pyplot as plt     # matplotlib → to draw and show the graph."
   ]
  },
  {
   "cell_type": "code",
   "execution_count": 40,
   "id": "c8105db0-96b9-4dbc-becc-f7e193789ef6",
   "metadata": {},
   "outputs": [],
   "source": [
    "def visualize_graph(graph: Dict[str, List[str]]) -> None:\n",
    "    \"\"\"\n",
    "    Visualize the given directed graph using NetworkX and Matplotlib.\n",
    "\n",
    "    Args:\n",
    "        graph (Dict[str, List[str]]): Graph represented as an adjacency list.\n",
    "    \"\"\"\n",
    "    G = nx.DiGraph()\n",
    "    for node, neighbors in graph.items():\n",
    "        for neighbor in neighbors:\n",
    "            G.add_edge(node, neighbor)\n",
    "\n",
    "    plt.figure(figsize=(8, 5))\n",
    "    pos = nx.spring_layout(G)  # Position nodes\n",
    "    nx.draw_networkx(G, pos, with_labels=True, node_color='skyblue',\n",
    "                     node_size=1500, edge_color='gray',\n",
    "                     font_size=12, font_weight='bold')\n",
    "    plt.title(\"Graph Visualization for BFS\")\n",
    "    plt.show()"
   ]
  },
  {
   "cell_type": "code",
   "execution_count": 42,
   "id": "8baac482-59e6-4edd-ba3a-cf605b60448c",
   "metadata": {},
   "outputs": [],
   "source": [
    "def bfs(graph: Dict[str, List[str]], start_node: str) -> List[str]:\n",
    "    \"\"\"\n",
    "    Perform Breadth-First Search (BFS) on a given graph.\n",
    "\n",
    "    Args:\n",
    "        graph (Dict[str, List[str]]): Graph represented as an adjacency list.\n",
    "        start_node (str): The starting node for BFS.\n",
    "\n",
    "    Returns:\n",
    "        List[str]: Order of nodes visited during BFS.\n",
    "    \"\"\"\n",
    "    visited: Set[str] = set()\n",
    "    queue: deque[str] = deque([start_node])\n",
    "    visited.add(start_node)\n",
    "    bfs_order: List[str] = []\n",
    "\n",
    "    print(\"BFS Traversal Order:\")\n",
    "    while queue:\n",
    "        current_node = queue.popleft()\n",
    "        print(current_node, end=' ')\n",
    "        bfs_order.append(current_node)\n",
    "\n",
    "        for neighbor in graph[current_node]:\n",
    "            if neighbor not in visited:\n",
    "                visited.add(neighbor)\n",
    "                queue.append(neighbor)\n",
    "\n",
    "    return bfs_order"
   ]
  },
  {
   "cell_type": "code",
   "execution_count": null,
   "id": "2f2d1bea-ad1d-4e56-85ef-ee27595d1bac",
   "metadata": {},
   "outputs": [],
   "source": [
    "if __name__ == \"__main__\":\n",
    "    # Define the graph using adjacency list\n",
    "    graph_data = {\n",
    "        'A': ['B', 'C'],\n",
    "        'B': ['D', 'E'],\n",
    "        'C': ['F'],\n",
    "        'D': [],\n",
    "        'E': ['F'],\n",
    "        'F': []\n",
    "    }\n",
    "\n",
    "    start_node_input = input(\"ENTER ONE OF THE OPTION FROM:- \\n [A, B, C, D, E, F]\")\n",
    "\n",
    "    visualize_graph(graph_data)\n",
    "    \n",
    "    traversal_order = bfs(graph_data, start_node_input)"
   ]
  },
  {
   "cell_type": "code",
   "execution_count": null,
   "id": "81fe094e-dc76-4bcd-a54a-1ca8989082dc",
   "metadata": {},
   "outputs": [],
   "source": []
  }
 ],
 "metadata": {
  "kernelspec": {
   "display_name": "Python [conda env:base] *",
   "language": "python",
   "name": "conda-base-py"
  },
  "language_info": {
   "codemirror_mode": {
    "name": "ipython",
    "version": 3
   },
   "file_extension": ".py",
   "mimetype": "text/x-python",
   "name": "python",
   "nbconvert_exporter": "python",
   "pygments_lexer": "ipython3",
   "version": "3.12.7"
  }
 },
 "nbformat": 4,
 "nbformat_minor": 5
}
