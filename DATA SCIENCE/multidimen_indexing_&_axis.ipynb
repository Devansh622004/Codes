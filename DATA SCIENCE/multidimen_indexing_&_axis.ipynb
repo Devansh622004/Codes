{
 "cells": [
  {
   "cell_type": "code",
   "execution_count": 1,
   "id": "a5fe7765-191e-4845-8dfb-33ddcf79a056",
   "metadata": {},
   "outputs": [],
   "source": [
    "import numpy as np"
   ]
  },
  {
   "cell_type": "code",
   "execution_count": 5,
   "id": "21874a72-cf53-4328-b492-f3072c2b5edf",
   "metadata": {},
   "outputs": [],
   "source": [
    "arr = np.array([[1, 2, 3],\n",
    "                [4, 5, 6],\n",
    "                [7, 8, 9]])"
   ]
  },
  {
   "cell_type": "code",
   "execution_count": 13,
   "id": "8cb9c028-5b7a-4888-8867-1af3ff6241a1",
   "metadata": {},
   "outputs": [
    {
     "data": {
      "text/plain": [
       "45"
      ]
     },
     "execution_count": 13,
     "metadata": {},
     "output_type": "execute_result"
    }
   ],
   "source": [
    "np.sum(arr)                        # SUM OF ALL ELEMENTS. "
   ]
  },
  {
   "cell_type": "code",
   "execution_count": 9,
   "id": "850373aa-669a-4b0e-8ca3-3e5afb3d30c0",
   "metadata": {},
   "outputs": [
    {
     "data": {
      "text/plain": [
       "array([12, 15, 18])"
      ]
     },
     "execution_count": 9,
     "metadata": {},
     "output_type": "execute_result"
    }
   ],
   "source": [
    "np.sum(arr, axis=0)                # VERTICALLY SUM OF ELEMENTS."
   ]
  },
  {
   "cell_type": "code",
   "execution_count": 11,
   "id": "bf9f711b-65cb-4c70-8204-15e154b1cb02",
   "metadata": {},
   "outputs": [
    {
     "data": {
      "text/plain": [
       "array([ 6, 15, 24])"
      ]
     },
     "execution_count": 11,
     "metadata": {},
     "output_type": "execute_result"
    }
   ],
   "source": [
    "np.sum(arr, axis=1)                # HORIZONTALLY SUM OF ELEMENTS."
   ]
  },
  {
   "cell_type": "code",
   "execution_count": 15,
   "id": "70481c3e-1103-42a0-ac47-c2207ad46fbf",
   "metadata": {},
   "outputs": [
    {
     "data": {
      "text/plain": [
       "1"
      ]
     },
     "execution_count": 15,
     "metadata": {},
     "output_type": "execute_result"
    }
   ],
   "source": [
    "arr[0,0]                           # FOR ACCESSING ELEMENTS."
   ]
  },
  {
   "cell_type": "code",
   "execution_count": 17,
   "id": "b0c1c3cb-39db-4234-a0b8-a694e2226b8f",
   "metadata": {},
   "outputs": [
    {
     "data": {
      "text/plain": [
       "2"
      ]
     },
     "execution_count": 17,
     "metadata": {},
     "output_type": "execute_result"
    }
   ],
   "source": [
    "# OR\n",
    "\n",
    "arr[0][1]"
   ]
  },
  {
   "cell_type": "code",
   "execution_count": 19,
   "id": "3ce839c5-6f7d-4ecf-97db-b037d1c01d32",
   "metadata": {},
   "outputs": [
    {
     "data": {
      "text/plain": [
       "array([[2, 3],\n",
       "       [5, 6]])"
      ]
     },
     "execution_count": 19,
     "metadata": {},
     "output_type": "execute_result"
    }
   ],
   "source": [
    "arr[0:2, 1:3]"
   ]
  },
  {
   "cell_type": "code",
   "execution_count": 21,
   "id": "3f9dd0f9-c946-402e-ae8c-6d14b9efabd3",
   "metadata": {},
   "outputs": [
    {
     "name": "stdout",
     "output_type": "stream",
     "text": [
      "(2, 2, 3)\n"
     ]
    }
   ],
   "source": [
    "# Indexing in 3D Arrays\n",
    "\n",
    "arr3D = np.array([[[1, 2, 3], [4, 5, 6]],\n",
    "                  [[7, 8, 9], [10, 11, 12]]])\n",
    "\n",
    "# Output of arr3D.shape is → (depth, rows, columns)\n",
    "print(arr3D.shape) # Output: (2    , 2   , 3) "
   ]
  },
  {
   "cell_type": "code",
   "execution_count": 23,
   "id": "dec36d84-453c-4bf5-a98e-274f702c020b",
   "metadata": {},
   "outputs": [
    {
     "name": "stdout",
     "output_type": "stream",
     "text": [
      "6\n",
      "[[1 2 3]\n",
      " [7 8 9]]\n"
     ]
    }
   ],
   "source": [
    "# Accessing elements in 3D:\n",
    "\n",
    "# First sheet, second row, third column\n",
    "print(arr3D[0, 1, 2])  # Output: 6\n",
    "\n",
    "print(arr3D[:, 0, :])   # Get the first row from both sheets"
   ]
  },
  {
   "cell_type": "code",
   "execution_count": 35,
   "id": "54444a9d-e27f-4a01-8dba-638069c70a5c",
   "metadata": {},
   "outputs": [
    {
     "name": "stdout",
     "output_type": "stream",
     "text": [
      "[1 4 7] \n",
      "\n",
      "[[1 2 3]\n",
      " [7 8 9]]\n"
     ]
    }
   ],
   "source": [
    "# Practical Example: Selecting Data Along Axes\n",
    "\n",
    "# Get all rows of the first column\n",
    "first_col = arr[:, 0]\n",
    "print(first_col, \"\\n\")  # Output: [1 4 7]\n",
    "\n",
    "# Get the first row from each \"sheet\" in a 3D array\n",
    "first_rows = arr3D[:, 0, :]\n",
    "print(first_rows)"
   ]
  },
  {
   "cell_type": "code",
   "execution_count": 37,
   "id": "d06455d1-f77e-4570-b993-ead2276d5ba6",
   "metadata": {},
   "outputs": [
    {
     "name": "stdout",
     "output_type": "stream",
     "text": [
      "[[1 0 3]\n",
      " [4 0 6]\n",
      " [7 0 9]]\n"
     ]
    }
   ],
   "source": [
    "# Changing Data Along an Axis\n",
    "\n",
    "# Replace all elements in column 1 with 0\n",
    "\n",
    "arr[:, 1] = 0\n",
    "print(arr)"
   ]
  },
  {
   "cell_type": "code",
   "execution_count": null,
   "id": "0c353f78-aa4a-4682-bca3-10966ee61cc8",
   "metadata": {},
   "outputs": [],
   "source": []
  }
 ],
 "metadata": {
  "kernelspec": {
   "display_name": "Python [conda env:base] *",
   "language": "python",
   "name": "conda-base-py"
  },
  "language_info": {
   "codemirror_mode": {
    "name": "ipython",
    "version": 3
   },
   "file_extension": ".py",
   "mimetype": "text/x-python",
   "name": "python",
   "nbconvert_exporter": "python",
   "pygments_lexer": "ipython3",
   "version": "3.12.7"
  }
 },
 "nbformat": 4,
 "nbformat_minor": 5
}
